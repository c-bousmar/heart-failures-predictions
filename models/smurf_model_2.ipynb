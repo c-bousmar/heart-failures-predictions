{
 "cells": [
  {
   "cell_type": "markdown",
   "metadata": {},
   "source": [
    "#### Imports"
   ]
  },
  {
   "cell_type": "code",
   "execution_count": 107,
   "metadata": {},
   "outputs": [],
   "source": [
    "import pandas as pd\n",
    "import numpy as np\n",
    "import matplotlib.pyplot as plt\n",
    "from sklearn.preprocessing import LabelEncoder, StandardScaler, OrdinalEncoder\n",
    "from sklearn.svm import SVR\n",
    "from sklearn.metrics import root_mean_squared_error, mean_absolute_error, r2_score, mean_squared_error\n",
    "from sklearn.model_selection import GridSearchCV"
   ]
  },
  {
   "cell_type": "markdown",
   "metadata": {},
   "source": [
    "#### Dataset"
   ]
  },
  {
   "cell_type": "code",
   "execution_count": 108,
   "metadata": {},
   "outputs": [
    {
     "name": "stdout",
     "output_type": "stream",
     "text": [
      "X_train: (1000, 14)\n",
      "X_test: (500, 14)\n",
      "y_train: (1000, 1)\n",
      "y_test: (500, 1)\n"
     ]
    }
   ],
   "source": [
    "# Load data\n",
    "X_train = pd.read_csv('../data_students/labeled_data/X_train.csv')\n",
    "X_test = pd.read_csv('../data_students/labeled_data/X_test.csv')\n",
    "y_train = pd.read_csv('../data_students/labeled_data/y_train.csv', header=None)\n",
    "y_test = pd.read_csv('../data_students/labeled_data/y_test.csv', header=None)\n",
    "\n",
    "# Information about the data\n",
    "print(\"X_train: \" + str(X_train.shape))\n",
    "print(\"X_test: \" + str(X_test.shape))\n",
    "print(\"y_train: \" + str(y_train.shape))\n",
    "print(\"y_test: \" + str(y_test.shape))"
   ]
  },
  {
   "cell_type": "markdown",
   "metadata": {},
   "source": [
    "#### Data pre-processing"
   ]
  },
  {
   "cell_type": "code",
   "execution_count": 109,
   "metadata": {},
   "outputs": [],
   "source": [
    "# Rid of the column 'img_filename'\n",
    "X_train = X_train.drop(columns=['img_filename'])\n",
    "X_test = X_test.drop(columns=['img_filename'])\n",
    "\n",
    "# Transform all categorical columns using label encoding\n",
    "label_encoders = LabelEncoder()\n",
    "X_train['profession'] = label_encoders.fit_transform(X_train['profession'])\n",
    "X_test['profession'] = label_encoders.transform(X_test['profession'])\n",
    "\n",
    "\n",
    "categorical_columns = X_train.select_dtypes(include=['object']).columns\n",
    "satisfaction_order = ['Very low', 'Low', 'Moderate', 'High', 'Very high']\n",
    "ordinal_encoders = OrdinalEncoder(categories=[satisfaction_order])\n",
    "for column in categorical_columns:\n",
    "    X_train[column] = ordinal_encoders.fit_transform(X_train[column].values.reshape(-1, 1))\n",
    "    X_test[column] = ordinal_encoders.transform(X_test[column].values.reshape(-1, 1))\n",
    "\n",
    "# Standardize data\n",
    "scaler = StandardScaler()\n",
    "numerical_columns = X_train.select_dtypes(include=['float64', 'int64']).columns\n",
    "X_train[numerical_columns] = scaler.fit_transform(X_train[numerical_columns])\n",
    "X_test[numerical_columns] = scaler.transform(X_test[numerical_columns])\n",
    "\n"
   ]
  },
  {
   "cell_type": "markdown",
   "metadata": {},
   "source": [
    "#### Feature Selection"
   ]
  },
  {
   "cell_type": "code",
   "execution_count": 110,
   "metadata": {},
   "outputs": [
    {
     "data": {
      "text/plain": [
       "['blood pressure',\n",
       " 'weight',\n",
       " 'sarsaparilla',\n",
       " 'cholesterol',\n",
       " 'smurfin donuts',\n",
       " 'age',\n",
       " 'height',\n",
       " 'potassium',\n",
       " 'smurfberry liquor',\n",
       " 'calcium']"
      ]
     },
     "execution_count": 110,
     "metadata": {},
     "output_type": "execute_result"
    }
   ],
   "source": [
    "# Computation of Pearson correlation coefficient\n",
    "def corr(X_train, y_train, k):\n",
    "    y_train = y_train.squeeze()\n",
    "    X_train_copy = X_train.copy()\n",
    "    X_train_copy['target'] = y_train\n",
    "    corr = X_train_copy.corr(method='pearson')['target'].drop('target')\n",
    "    abs_corr = corr.abs().sort_values(ascending=False)\n",
    "    top_features = abs_corr.head(k).index.tolist()\n",
    "    return top_features\n",
    "\n",
    "corr(X_train, y_train, 10)\n"
   ]
  },
  {
   "cell_type": "markdown",
   "metadata": {},
   "source": [
    "#### Model Selection and Implementation"
   ]
  },
  {
   "cell_type": "code",
   "execution_count": 111,
   "metadata": {},
   "outputs": [
    {
     "name": "stdout",
     "output_type": "stream",
     "text": [
      "Top 5 features\n",
      "Best parameters:  {'C': 0.01, 'epsilon': 0.05, 'kernel': 'poly'}\n",
      "Best score:  -0.005730474220828155\n",
      "RMSE:  0.07569989577818556\n",
      "\n",
      "Top 7 features\n",
      "Best parameters:  {'C': 0.1, 'epsilon': 0.05, 'kernel': 'rbf'}\n",
      "Best score:  -0.005591658898469999\n",
      "RMSE:  0.0747773956384548\n",
      "\n",
      "Top 9 features\n",
      "Best parameters:  {'C': 0.1, 'epsilon': 0.05, 'kernel': 'rbf'}\n",
      "Best score:  -0.0052892992040090405\n",
      "RMSE:  0.07272756839059753\n",
      "\n",
      "Top 11 features\n",
      "Best parameters:  {'C': 0.1, 'epsilon': 0.05, 'kernel': 'rbf'}\n",
      "Best score:  -0.005405283502290697\n",
      "RMSE:  0.07352063317389682\n",
      "\n",
      "Top 13 features\n",
      "Best parameters:  {'C': 0.01, 'epsilon': 0.05, 'kernel': 'poly'}\n",
      "Best score:  -0.005499223788460965\n",
      "RMSE:  0.07415675146917484\n",
      "\n",
      "Best k:  9\n",
      "Best score:  0.07272756839059753\n",
      "Best parameters:  {'C': 0.1, 'epsilon': 0.05, 'kernel': 'rbf'}\n"
     ]
    }
   ],
   "source": [
    "model = SVR()\n",
    "\n",
    "param_grid = {\n",
    "    'kernel': ['poly', 'rbf', 'sigmoid'],\n",
    "    'C': [0.01, 0.05, 0.1, 0.5, 1],\n",
    "    'epsilon': [0.01, 0.05, 0.1, 0.5, 1]\n",
    "}\n",
    "\n",
    "k = [5, 7, 9, 11, 13]\n",
    "best = {'k': 0, 'score': 1, 'params': None}\n",
    "for i in k:\n",
    "    print(\"Top \" + str(i) + \" features\")\n",
    "    top_features = corr(X_train, y_train, i)\n",
    "    X_train_top = X_train[top_features]\n",
    "    grid_search = GridSearchCV(model, param_grid, cv=5, scoring='neg_mean_squared_error')\n",
    "    grid_search.fit(X_train_top, y_train.values.ravel())\n",
    "    print(\"Best parameters: \", grid_search.best_params_)\n",
    "    print(\"Best score: \", grid_search.best_score_)\n",
    "    print(\"RMSE: \", np.sqrt(-grid_search.best_score_))\n",
    "    print()\n",
    "\n",
    "    if np.sqrt(-grid_search.best_score_) < best['score']:\n",
    "        best['score'] = np.sqrt(-grid_search.best_score_)\n",
    "        best['k'] = i\n",
    "        best['params'] = grid_search.best_params_\n",
    "\n",
    "\n",
    "print(\"Best k: \", best['k'])\n",
    "print(\"Best score: \", best['score'])\n",
    "print(\"Best parameters: \", best['params'])\n"
   ]
  },
  {
   "cell_type": "code",
   "execution_count": 112,
   "metadata": {},
   "outputs": [
    {
     "name": "stdout",
     "output_type": "stream",
     "text": [
      "RMSE:  0.07321504537951955\n"
     ]
    }
   ],
   "source": [
    "best_k = best['k']\n",
    "top_features = corr(X_train, y_train, best_k)\n",
    "X_train_top = X_train[top_features]\n",
    "X_test_top = X_test[top_features]\n",
    "\n",
    "model = SVR(kernel=best['params']['kernel'], C=best['params']['C'], epsilon=best['params']['epsilon'])\n",
    "model.fit(X_train_top, y_train.values.ravel())\n",
    "\n",
    "y_pred = model.predict(X_test_top)\n",
    "print(\"RMSE: \", np.sqrt(mean_squared_error(y_test, y_pred)))"
   ]
  }
 ],
 "metadata": {
  "kernelspec": {
   "display_name": "Python 3",
   "language": "python",
   "name": "python3"
  },
  "language_info": {
   "codemirror_mode": {
    "name": "ipython",
    "version": 3
   },
   "file_extension": ".py",
   "mimetype": "text/x-python",
   "name": "python",
   "nbconvert_exporter": "python",
   "pygments_lexer": "ipython3",
   "version": "3.10.13"
  }
 },
 "nbformat": 4,
 "nbformat_minor": 2
}
