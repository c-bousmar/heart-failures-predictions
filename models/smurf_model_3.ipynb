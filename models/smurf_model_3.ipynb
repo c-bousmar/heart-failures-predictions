{
 "cells": [
  {
   "cell_type": "markdown",
   "metadata": {},
   "source": [
    "#### Imports"
   ]
  },
  {
   "cell_type": "code",
   "execution_count": 21,
   "metadata": {},
   "outputs": [],
   "source": [
    "import os\n",
    "from PIL import Image\n",
    "import pandas as pd\n",
    "import numpy as np\n",
    "import matplotlib.pyplot as plt\n",
    "from sklearn.preprocessing import LabelEncoder, StandardScaler, OrdinalEncoder\n",
    "from sklearn.svm import SVR\n",
    "from sklearn.metrics import root_mean_squared_error\n",
    "from sklearn.model_selection import GridSearchCV, train_test_split"
   ]
  },
  {
   "cell_type": "markdown",
   "metadata": {},
   "source": [
    "### Images"
   ]
  },
  {
   "cell_type": "code",
   "execution_count": 22,
   "metadata": {},
   "outputs": [],
   "source": [
    "X_train = pd.read_csv('../data_students/labeled_data/X_train.csv')\n",
    "X_test = pd.read_csv('../data_students/labeled_data/X_test.csv')"
   ]
  },
  {
   "cell_type": "code",
   "execution_count": 23,
   "metadata": {},
   "outputs": [
    {
     "name": "stdout",
     "output_type": "stream",
     "text": [
      "All images cropped successfully!\n"
     ]
    }
   ],
   "source": [
    "def remove_image_borders(input_folder, output_folder, border_size=5):\n",
    "    if not os.path.exists(output_folder):\n",
    "        os.makedirs(output_folder)\n",
    "\n",
    "    for filename in os.listdir(input_folder):\n",
    "        if filename.endswith(('.png')):\n",
    "            img_path = os.path.join(input_folder, filename)\n",
    "            img = Image.open(img_path)\n",
    "            \n",
    "            width, height = img.size\n",
    "            \n",
    "            cropped_img = img.crop((\n",
    "                border_size,  # Left\n",
    "                border_size,  # Top\n",
    "                width - border_size,  # Right\n",
    "                height - border_size  # Bottom\n",
    "            ))\n",
    "            cropped_img.save(os.path.join(output_folder, filename))\n",
    "\n",
    "img_folder = {\n",
    "    'Img_train': '../data_students/labeled_data/Img_train',\n",
    "    'Img_test': '../data_students/labeled_data/Img_test',\n",
    "}\n",
    "\n",
    "img_cropped_folder = {\n",
    "    'Img_train_cropped': '../data_students/labeled_data/Img_train_cropped',\n",
    "    'Img_test_cropped': '../data_students/labeled_data/Img_test_cropped',\n",
    "}\n",
    "\n",
    "for folder, input_path in img_folder.items():\n",
    "    output_path = img_cropped_folder[folder + '_cropped']\n",
    "    remove_image_borders(input_path, output_path)\n",
    "print(\"All images cropped successfully!\")"
   ]
  },
  {
   "cell_type": "code",
   "execution_count": 24,
   "metadata": {},
   "outputs": [],
   "source": [
    "def flatten_images_to_set(input_folder):\n",
    "    flattened_images_set = set()\n",
    "\n",
    "    for filename in os.listdir(input_folder):\n",
    "        if filename.endswith(('.png')):\n",
    "            img_path = os.path.join(input_folder, filename)\n",
    "            img = Image.open(img_path)\n",
    "            \n",
    "            img_gray = img.convert('L')  # Convert to grayscale\n",
    "            img_array = np.array(img_gray).flatten()\n",
    "            flattened_images_set.add((filename, tuple(img_array)))\n",
    "    return flattened_images_set\n",
    "\n",
    "train_images_set = flatten_images_to_set(img_cropped_folder['Img_train_cropped'])\n",
    "test_images_set = flatten_images_to_set(img_cropped_folder['Img_test_cropped'])"
   ]
  },
  {
   "cell_type": "code",
   "execution_count": 25,
   "metadata": {},
   "outputs": [],
   "source": [
    "def add_flattened_images_to_dataframe(df, flattened_images_set, img_filename_col='img_filename'):\n",
    "    flattened_images_dict = {name: values for name, values in flattened_images_set}\n",
    "\n",
    "    if len(flattened_images_set) > 0:\n",
    "        num_pixels = len(next(iter(flattened_images_dict.values())))\n",
    "        new_cols = [f\"pixel_{i + 1}\" for i in range(num_pixels)]\n",
    "    else:\n",
    "        raise ValueError(\"Flattened images set is empty.\")\n",
    "\n",
    "    pixel_data = df[img_filename_col].map(flattened_images_dict)\n",
    "    if pixel_data.isna().any():\n",
    "        raise ValueError(\"Some filenames in the DataFrame do not match those in the image set.\")\n",
    "\n",
    "    pixel_df = pd.DataFrame(pixel_data.tolist(), columns=new_cols, index=df.index)\n",
    "\n",
    "    updated_df = pd.concat([df.drop(columns=[img_filename_col]), pixel_df], axis=1)\n",
    "\n",
    "    return updated_df\n",
    "\n",
    "X_train = add_flattened_images_to_dataframe(X_train, train_images_set)\n",
    "X_test = add_flattened_images_to_dataframe(X_test, test_images_set)\n",
    "\n",
    "X_train.to_csv('../data_students/labeled_data/X_train_with_images.csv', index=False)\n",
    "X_test.to_csv('../data_students/labeled_data/X_test_with_images.csv', index=False)\n"
   ]
  },
  {
   "cell_type": "markdown",
   "metadata": {},
   "source": [
    "#### Data pre-processing"
   ]
  },
  {
   "cell_type": "code",
   "execution_count": 26,
   "metadata": {},
   "outputs": [],
   "source": [
    "X_train = pd.read_csv('../data_students/labeled_data/X_train_combined.csv')\n",
    "X_test = pd.read_csv('../data_students/labeled_data/X_test_combined.csv')\n",
    "y_train = pd.read_csv('../data_students/labeled_data/y_train.csv', header=None).squeeze()\n",
    "y_test = pd.read_csv('../data_students/labeled_data/y_test.csv', header=None).squeeze()"
   ]
  },
  {
   "cell_type": "code",
   "execution_count": null,
   "metadata": {},
   "outputs": [],
   "source": [
    "label_encoders = LabelEncoder()\n",
    "X_train['profession'] = label_encoders.fit_transform(X_train['profession'])\n",
    "X_test['profession'] = label_encoders.transform(X_test['profession'])\n",
    "\n",
    "categorical_columns = X_train.select_dtypes(include=['object']).columns\n",
    "satisfaction_order = ['Very low', 'Low', 'Moderate', 'High', 'Very high']\n",
    "ordinal_encoders = OrdinalEncoder(categories=[satisfaction_order])\n",
    "for column in categorical_columns:\n",
    "    X_train[column] = ordinal_encoders.fit_transform(X_train[column].values.reshape(-1, 1))\n",
    "    X_test[column] = ordinal_encoders.transform(X_test[column].values.reshape(-1, 1))\n",
    "\n",
    "scaler = StandardScaler()\n",
    "numerical_columns = X_train.select_dtypes(include=['float64', 'int64']).columns\n",
    "X_train[numerical_columns] = scaler.fit_transform(X_train[numerical_columns])\n",
    "X_test[numerical_columns] = scaler.transform(X_test[numerical_columns])\n"
   ]
  },
  {
   "cell_type": "code",
   "execution_count": 28,
   "metadata": {},
   "outputs": [],
   "source": [
    "pixel_cols = [col for col in X_train.columns if col.startswith(\"pixel_\")]\n",
    "tabular_cols = [col for col in X_train.columns if col not in pixel_cols]\n",
    "\n",
    "X_train_tabular = X_train[tabular_cols].copy()\n",
    "X_train_pixels = X_train[pixel_cols].copy()\n",
    "\n",
    "X_test_tabular = X_test[tabular_cols].copy()\n",
    "X_test_pixels = X_test[pixel_cols].copy()\n",
    "\n",
    "X_train_tabular = X_train_tabular.drop(columns=['profession', 'hemoglobin', 'calcium', 'vitamin D'])\n",
    "X_test_tabular = X_test_tabular.drop(columns=['profession', 'hemoglobin', 'calcium', 'vitamin D'])\n"
   ]
  },
  {
   "cell_type": "markdown",
   "metadata": {},
   "source": [
    "#### Feature Selection"
   ]
  },
  {
   "cell_type": "code",
   "execution_count": 29,
   "metadata": {},
   "outputs": [
    {
     "data": {
      "text/plain": [
       "['blood pressure',\n",
       " 'weight',\n",
       " 'sarsaparilla',\n",
       " 'cholesterol',\n",
       " 'smurfin donuts',\n",
       " 'age',\n",
       " 'height',\n",
       " 'potassium',\n",
       " '179',\n",
       " 'smurfberry liquor',\n",
       " '246',\n",
       " '247',\n",
       " '221',\n",
       " '197',\n",
       " '63',\n",
       " '265',\n",
       " '169',\n",
       " '92',\n",
       " '119',\n",
       " '94']"
      ]
     },
     "execution_count": 29,
     "metadata": {},
     "output_type": "execute_result"
    }
   ],
   "source": [
    "def corr(X_train, y_train, k):\n",
    "    y_train = y_train.squeeze()\n",
    "    X_train_copy = X_train.copy()\n",
    "    X_train_copy['target'] = y_train\n",
    "    corr = X_train_copy.corr(method='pearson')['target'].drop('target')\n",
    "    abs_corr = corr.abs().sort_values(ascending=False)\n",
    "    top_features = abs_corr.head(k).index.tolist()\n",
    "    return top_features\n",
    "\n",
    "corr(X_train, y_train, 20)"
   ]
  },
  {
   "cell_type": "markdown",
   "metadata": {},
   "source": [
    "#### Model Selection and Implementation"
   ]
  },
  {
   "cell_type": "code",
   "execution_count": 30,
   "metadata": {},
   "outputs": [
    {
     "name": "stdout",
     "output_type": "stream",
     "text": [
      "Fitting 5 folds for each of 25 candidates, totalling 125 fits\n",
      "Fitting 5 folds for each of 25 candidates, totalling 125 fits\n",
      "Fitting 5 folds for each of 25 candidates, totalling 125 fits\n",
      "Fitting 5 folds for each of 25 candidates, totalling 125 fits\n",
      "Fitting 5 folds for each of 25 candidates, totalling 125 fits\n",
      "Fitting 5 folds for each of 25 candidates, totalling 125 fits\n",
      "Fitting 5 folds for each of 25 candidates, totalling 125 fits\n",
      "\n",
      "RMSE= 0.0720, STD= 0.0707\n",
      "Best Parameters: p=2.0, C=0.5, epsilon=0.01\n"
     ]
    }
   ],
   "source": [
    "model = SVR(kernel='rbf')\n",
    "\n",
    "param_grid = {\n",
    "    'C': [0.01, 0.05, 0.1, 0.5, 1],\n",
    "    'epsilon': [0.01, 0.05, 0.1, 0.5, 1],\n",
    "    'p': [2, 4, 8, 16, 32, 64, 128]\n",
    "}\n",
    "\n",
    "results = []\n",
    "for p in param_grid['p']:\n",
    "    top_pixel_features = corr(X_train_pixels, y_train, p)\n",
    "    X_train_selected = np.hstack([X_train_tabular, X_train_pixels[top_pixel_features]])\n",
    "    X_train_split, X_val, y_train_split, y_val = train_test_split(X_train_selected, y_train, test_size=0.2, random_state=42)\n",
    "    \n",
    "    svr_param_grid = {\n",
    "        'C': param_grid['C'],\n",
    "        'epsilon': param_grid['epsilon']\n",
    "    }\n",
    "    grid_search = GridSearchCV(model, svr_param_grid, cv=5, scoring='neg_mean_squared_error', verbose=1, n_jobs=-1)\n",
    "    grid_search.fit(X_train_split, y_train_split)\n",
    "    \n",
    "    best_model = grid_search.best_estimator_\n",
    "    best_params = grid_search.best_params_\n",
    "    \n",
    "    y_val_pred = best_model.predict(X_val)\n",
    "    rmse_val = root_mean_squared_error(y_val, y_val_pred)\n",
    "    std_val = np.std(y_val - y_val_pred)\n",
    "    \n",
    "    results.append({\n",
    "        'p': p,\n",
    "        'C': best_params['C'],\n",
    "        'epsilon': best_params['epsilon'],\n",
    "        'validation_rmse': rmse_val,\n",
    "        'validation_std': std_val\n",
    "    })\n",
    "\n",
    "results_df = pd.DataFrame(results)\n",
    "best_result = results_df.loc[results_df['validation_rmse'].idxmin()]\n",
    "best_p = best_result['p']\n",
    "best_C = best_result['C']\n",
    "best_epsilon = best_result['epsilon']\n",
    "print(f\"\\nRMSE= {best_result['validation_rmse']:.4f}, STD= {best_result['validation_std']:.4f}\")\n",
    "print(f\"Best Parameters: p={best_p}, C={best_C}, epsilon={best_epsilon}\")"
   ]
  },
  {
   "cell_type": "code",
   "execution_count": 31,
   "metadata": {},
   "outputs": [
    {
     "name": "stdout",
     "output_type": "stream",
     "text": [
      "Test RMSE: 0.0860\n"
     ]
    }
   ],
   "source": [
    "top_pixel_features = corr(X_train_pixels, y_train, int(best_result['p']))\n",
    "\n",
    "X_train_final = np.hstack([X_train_tabular, X_train_pixels[top_pixel_features]])\n",
    "X_test_final = np.hstack([X_test_tabular, X_test_pixels[top_pixel_features]])\n",
    "\n",
    "final_model = SVR(kernel='rbf', C=best_C, epsilon=best_epsilon)\n",
    "final_model.fit(X_train_final, y_train)\n",
    "\n",
    "y_test_pred = final_model.predict(X_test_final)\n",
    "test_rmse = root_mean_squared_error(y_test, y_test_pred)\n",
    "\n",
    "print(f\"Test RMSE: {test_rmse:.4f}\")"
   ]
  },
  {
   "cell_type": "code",
   "execution_count": 32,
   "metadata": {},
   "outputs": [
    {
     "ename": "ValueError",
     "evalue": "cannot reshape array of size 0 into shape (18,18)",
     "output_type": "error",
     "traceback": [
      "\u001b[0;31m---------------------------------------------------------------------------\u001b[0m",
      "\u001b[0;31mValueError\u001b[0m                                Traceback (most recent call last)",
      "Cell \u001b[0;32mIn[32], line 20\u001b[0m\n\u001b[1;32m     18\u001b[0m \u001b[38;5;28;01mfor\u001b[39;00m i, idx \u001b[38;5;129;01min\u001b[39;00m \u001b[38;5;28menumerate\u001b[39m(example_image_indices):\n\u001b[1;32m     19\u001b[0m     example_image_flattened \u001b[38;5;241m=\u001b[39m X_test_pixels\u001b[38;5;241m.\u001b[39miloc[idx]\u001b[38;5;241m.\u001b[39mto_numpy()\n\u001b[0;32m---> 20\u001b[0m     highlighted_image \u001b[38;5;241m=\u001b[39m \u001b[43mhighlight_pixels_with_overlay\u001b[49m\u001b[43m(\u001b[49m\u001b[43mexample_image_flattened\u001b[49m\u001b[43m,\u001b[49m\u001b[43m \u001b[49m\u001b[43mselected_pixel_indices\u001b[49m\u001b[43m,\u001b[49m\u001b[43m \u001b[49m\u001b[43mimg_shape\u001b[49m\u001b[43m)\u001b[49m\n\u001b[1;32m     22\u001b[0m     ax \u001b[38;5;241m=\u001b[39m axes[i]\n\u001b[1;32m     23\u001b[0m     ax\u001b[38;5;241m.\u001b[39mimshow(highlighted_image, cmap\u001b[38;5;241m=\u001b[39m\u001b[38;5;124m'\u001b[39m\u001b[38;5;124mgray\u001b[39m\u001b[38;5;124m'\u001b[39m)\n",
      "Cell \u001b[0;32mIn[32], line 2\u001b[0m, in \u001b[0;36mhighlight_pixels_with_overlay\u001b[0;34m(image, selected_pixel_indices, img_shape)\u001b[0m\n\u001b[1;32m      1\u001b[0m \u001b[38;5;28;01mdef\u001b[39;00m \u001b[38;5;21mhighlight_pixels_with_overlay\u001b[39m(image, selected_pixel_indices, img_shape):\n\u001b[0;32m----> 2\u001b[0m     highlighted_image \u001b[38;5;241m=\u001b[39m \u001b[43mimage\u001b[49m\u001b[38;5;241;43m.\u001b[39;49m\u001b[43mreshape\u001b[49m\u001b[43m(\u001b[49m\u001b[43mimg_shape\u001b[49m\u001b[43m)\u001b[49m\u001b[38;5;241m.\u001b[39mcopy()\n\u001b[1;32m      3\u001b[0m     max_value \u001b[38;5;241m=\u001b[39m highlighted_image\u001b[38;5;241m.\u001b[39mmax()\n\u001b[1;32m      5\u001b[0m     \u001b[38;5;28;01mfor\u001b[39;00m idx \u001b[38;5;129;01min\u001b[39;00m selected_pixel_indices:\n",
      "\u001b[0;31mValueError\u001b[0m: cannot reshape array of size 0 into shape (18,18)"
     ]
    },
    {
     "data": {
      "image/png": "[encoded data removed]",
      "text/plain": [
       "<Figure size 1200x600 with 5 Axes>"
      ]
     },
     "metadata": {},
     "output_type": "display_data"
    }
   ],
   "source": [
    "def highlight_pixels_with_overlay(image, selected_pixel_indices, img_shape):\n",
    "    highlighted_image = image.reshape(img_shape).copy()\n",
    "    max_value = highlighted_image.max()\n",
    "\n",
    "    for idx in selected_pixel_indices:\n",
    "        highlighted_image[idx // img_shape[1], idx % img_shape[1]] = max_value\n",
    "    \n",
    "    return highlighted_image\n",
    "\n",
    "example_image_indices = [0, 1, 2, 3, 4]\n",
    "\n",
    "selected_pixel_indices = [X_train_pixels.columns.get_loc(feature) for feature in top_pixel_features]\n",
    "\n",
    "img_shape = (18, 18)\n",
    "\n",
    "fig, axes = plt.subplots(1, 5, figsize=(12, 6))\n",
    "\n",
    "for i, idx in enumerate(example_image_indices):\n",
    "    example_image_flattened = X_test_pixels.iloc[idx].to_numpy()\n",
    "    highlighted_image = highlight_pixels_with_overlay(example_image_flattened, selected_pixel_indices, img_shape)\n",
    "    \n",
    "    ax = axes[i]\n",
    "    ax.imshow(highlighted_image, cmap='gray')\n",
    "    ax.set_title(f\"Image {idx} - Highlighted\")\n",
    "    ax.axis('off')\n",
    "\n",
    "plt.tight_layout()\n",
    "plt.show()\n"
   ]
  }
 ],
 "metadata": {
  "kernelspec": {
   "display_name": "Python 3",
   "language": "python",
   "name": "python3"
  },
  "language_info": {
   "codemirror_mode": {
    "name": "ipython",
    "version": 3
   },
   "file_extension": ".py",
   "mimetype": "text/x-python",
   "name": "python",
   "nbconvert_exporter": "python",
   "pygments_lexer": "ipython3",
   "version": "3.10.13"
  }
 },
 "nbformat": 4,
 "nbformat_minor": 2
}
