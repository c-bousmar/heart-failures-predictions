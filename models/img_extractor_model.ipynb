{
 "cells": [
  {
   "cell_type": "markdown",
   "metadata": {},
   "source": [
    "# Image to features"
   ]
  },
  {
   "cell_type": "code",
   "execution_count": 2,
   "metadata": {},
   "outputs": [],
   "source": [
    "import numpy as np\n",
    "import matplotlib.pyplot as plt\n",
    "import os\n",
    "import pandas as pd\n",
    "from PIL import Image\n",
    "from tqdm import tqdm\n",
    "\n",
    "FOLDER_INPUT_PATH = \"../data_students/labeled_data/\"\n",
    "FOLDER_OUTPUT_PATH = \"../data_students/labeled_data/img_features/\"\n",
    "\n",
    "FOLDER_INPUT_PATH_PREDICT = \"../data_students/unlabeled_data/\"\n",
    "FOLDER_OUTPUT_PATH_PREDICT = \"../data_students/unlabeled_data/\"\n",
    "\n",
    "def get_variable_name(variable, namespace):\n",
    "    return [name for name, value in namespace.items() if value is variable][0]"
   ]
  },
  {
   "cell_type": "markdown",
   "metadata": {},
   "source": [
    "# Cropping"
   ]
  },
  {
   "cell_type": "code",
   "execution_count": 6,
   "metadata": {},
   "outputs": [
    {
     "name": "stderr",
     "output_type": "stream",
     "text": [
      "Cropping borders for train images: 100%|██████████| 1000/1000 [00:00<00:00, 3764.29it/s]\n"
     ]
    },
    {
     "name": "stdout",
     "output_type": "stream",
     "text": [
      "Cropped images saved to ../data_students/labeled_data/Img_train_cropped/\n"
     ]
    },
    {
     "name": "stderr",
     "output_type": "stream",
     "text": [
      "Cropping borders for test images: 100%|██████████| 500/500 [00:00<00:00, 4933.98it/s]\n"
     ]
    },
    {
     "name": "stdout",
     "output_type": "stream",
     "text": [
      "Cropped images saved to ../data_students/labeled_data/Img_test_cropped/\n"
     ]
    },
    {
     "name": "stderr",
     "output_type": "stream",
     "text": [
      "Cropping borders for predict images: 100%|██████████| 500/500 [00:00<00:00, 5069.04it/s]"
     ]
    },
    {
     "name": "stdout",
     "output_type": "stream",
     "text": [
      "Cropped images saved to ../data_students/unlabeled_data/Img_cropped/\n"
     ]
    },
    {
     "name": "stderr",
     "output_type": "stream",
     "text": [
      "\n"
     ]
    }
   ],
   "source": [
    "def crop_images(mode, border_size=5):\n",
    "    if mode not in ['train', 'test', 'predict']:\n",
    "        raise ValueError(\"Mode must be either 'train' or 'test'.\")\n",
    "    \n",
    "    if mode == 'predict':\n",
    "        input_folder_predict = f\"{FOLDER_INPUT_PATH_PREDICT}Img/\"\n",
    "        output_folder_predict = f\"{FOLDER_OUTPUT_PATH_PREDICT}Img_cropped/\"\n",
    "\n",
    "        if not os.path.exists(output_folder_predict):\n",
    "            os.makedirs(output_folder_predict)\n",
    "\n",
    "        image_files_predict = [f for f in sorted(os.listdir(input_folder_predict)) if f.endswith('.png')]\n",
    "        for filename in tqdm(image_files_predict, desc=f\"Cropping borders for {mode} images\"):\n",
    "            img_path = os.path.join(input_folder_predict, filename)\n",
    "            img = Image.open(img_path)\n",
    "\n",
    "            width, height = img.size\n",
    "\n",
    "            cropped_img = img.crop((\n",
    "                border_size,  # Left\n",
    "                border_size,  # Top\n",
    "                width - border_size,  # Right\n",
    "                height - border_size  # Bottom\n",
    "            ))\n",
    "            cropped_img.save(os.path.join(output_folder_predict, filename))\n",
    "\n",
    "        print(f\"Cropped images saved to {output_folder_predict}\")\n",
    "\n",
    "    else :\n",
    "        input_folder = f\"{FOLDER_INPUT_PATH}Img_{mode}/\"\n",
    "        output_folder = f\"{FOLDER_INPUT_PATH}Img_{mode}_cropped/\"\n",
    "\n",
    "        if not os.path.exists(output_folder):\n",
    "            os.makedirs(output_folder)\n",
    "\n",
    "        image_files = [f for f in sorted(os.listdir(input_folder)) if f.endswith('.png')]\n",
    "        for filename in tqdm(image_files, desc=f\"Cropping borders for {mode} images\"):\n",
    "            img_path = os.path.join(input_folder, filename)\n",
    "            img = Image.open(img_path)\n",
    "\n",
    "            width, height = img.size\n",
    "\n",
    "            cropped_img = img.crop((\n",
    "                border_size,  # Left\n",
    "                border_size,  # Top\n",
    "                width - border_size,  # Right\n",
    "                height - border_size  # Bottom\n",
    "            ))\n",
    "            cropped_img.save(os.path.join(output_folder, filename))\n",
    "\n",
    "        print(f\"Cropped images saved to {output_folder}\")\n",
    "\n",
    "crop_images('train')\n",
    "crop_images('test')\n",
    "crop_images('predict')"
   ]
  },
  {
   "cell_type": "markdown",
   "metadata": {},
   "source": [
    "# Direct flattening"
   ]
  },
  {
   "cell_type": "code",
   "execution_count": 9,
   "metadata": {},
   "outputs": [
    {
     "name": "stderr",
     "output_type": "stream",
     "text": [
      "Flattening cropped images for train: 100%|██████████| 1000/1000 [00:00<00:00, 17159.18it/s]\n"
     ]
    },
    {
     "name": "stdout",
     "output_type": "stream",
     "text": [
      "Flattened images for train saved to ../data_students/labeled_data/img_features/img_feat_flat_train.csv.\n"
     ]
    },
    {
     "name": "stderr",
     "output_type": "stream",
     "text": [
      "Flattening cropped images for test: 100%|██████████| 500/500 [00:00<00:00, 21769.59it/s]\n"
     ]
    },
    {
     "name": "stdout",
     "output_type": "stream",
     "text": [
      "Flattened images for test saved to ../data_students/labeled_data/img_features/img_feat_flat_test.csv.\n"
     ]
    },
    {
     "name": "stderr",
     "output_type": "stream",
     "text": [
      "Flattening cropped images for predict: 100%|██████████| 500/500 [00:00<00:00, 17274.16it/s]\n"
     ]
    },
    {
     "name": "stdout",
     "output_type": "stream",
     "text": [
      "Flattened images for predict saved to ../data_students/unlabeled_data/img_features/img_feat_flat_predict.csv.\n"
     ]
    }
   ],
   "source": [
    "def flatten_images(mode, cropped=True):\n",
    "    if mode not in ['train', 'test', 'predict']:\n",
    "        raise ValueError(\"Mode must be either 'train' or 'test'.\")\n",
    "\n",
    "    if mode == 'predict':\n",
    "        if cropped:\n",
    "            input_folder = f\"{FOLDER_INPUT_PATH_PREDICT}Img_cropped/\"\n",
    "        else:\n",
    "            input_folder = f\"{FOLDER_INPUT_PATH_PREDICT}Img/\"\n",
    "        output_csv = f\"{FOLDER_OUTPUT_PATH_PREDICT}img_features/img_feat_flat_{mode}.csv\"\n",
    "\n",
    "        flattened_images = []\n",
    "        filenames = []\n",
    "\n",
    "        image_files = [f for f in os.listdir(input_folder) if f.endswith('.png')]\n",
    "        image_files.sort()\n",
    "\n",
    "        for filename in tqdm(image_files, desc=f\"Flattening {'cropped ' if cropped else ''}images for {mode}\"):\n",
    "            img_path = os.path.join(input_folder, filename)\n",
    "            img = Image.open(img_path)\n",
    "            img_gray = img.convert('L')\n",
    "            img_array = np.array(img_gray).flatten()\n",
    "\n",
    "            flattened_images.append(img_array)\n",
    "            filenames.append(filename)\n",
    "\n",
    "        if len(flattened_images) > 0:\n",
    "            num_pixels = len(flattened_images[0])\n",
    "            column_names = [f'pixel_{i + 1}' for i in range(num_pixels)]\n",
    "        else:\n",
    "            raise ValueError(\"No valid images found in the folder.\")\n",
    "        \n",
    "        flattened_images_df = pd.DataFrame(flattened_images, columns=column_names)\n",
    "        flattened_images_df['img_filename'] = filenames\n",
    "\n",
    "        flattened_images_df.to_csv(output_csv, index=False)\n",
    "        print(f\"Flattened images for {mode} saved to {output_csv}.\")\n",
    "\n",
    "    else :\n",
    "        if cropped:\n",
    "            input_folder = f\"{FOLDER_INPUT_PATH}Img_{mode}_cropped/\"\n",
    "        else:\n",
    "            input_folder = f\"{FOLDER_INPUT_PATH}Img_{mode}/\"\n",
    "        output_csv = f\"{FOLDER_OUTPUT_PATH}img_feat_flat_{mode}.csv\"\n",
    "\n",
    "        flattened_images = []\n",
    "        filenames = []\n",
    "\n",
    "        image_files = [f for f in os.listdir(input_folder) if f.endswith('.png')]\n",
    "        image_files.sort()\n",
    "\n",
    "        for filename in tqdm(image_files, desc=f\"Flattening {'cropped ' if cropped else ''}images for {mode}\"):\n",
    "            img_path = os.path.join(input_folder, filename)\n",
    "            img = Image.open(img_path)\n",
    "            img_gray = img.convert('L')\n",
    "            img_array = np.array(img_gray).flatten()\n",
    "\n",
    "            flattened_images.append(img_array)\n",
    "            filenames.append(filename)\n",
    "\n",
    "        if len(flattened_images) > 0:\n",
    "            num_pixels = len(flattened_images[0])\n",
    "            column_names = [f'pixel_{i + 1}' for i in range(num_pixels)]\n",
    "        else:\n",
    "            raise ValueError(\"No valid images found in the folder.\")\n",
    "\n",
    "        flattened_images_df = pd.DataFrame(flattened_images, columns=column_names)\n",
    "        flattened_images_df['img_filename'] = filenames\n",
    "\n",
    "        flattened_images_df.to_csv(output_csv, index=False)\n",
    "        print(f\"Flattened images for {mode} saved to {output_csv}.\")\n",
    "\n",
    "flatten_images('train')\n",
    "flatten_images('test')\n",
    "flatten_images('predict')\n",
    "# flatten_images('train', cropped=False)\n",
    "# flatten_images('test', cropped=False)\n"
   ]
  },
  {
   "cell_type": "markdown",
   "metadata": {},
   "source": [
    "# Using SKLEARN"
   ]
  },
  {
   "cell_type": "code",
   "execution_count": null,
   "metadata": {},
   "outputs": [],
   "source": [
    "import cv2\n",
    "from skimage.color import rgb2gray\n",
    "from skimage.feature import hog, corner_harris, corner_peaks, canny\n",
    "from skimage.io import imread\n",
    "\n",
    "\n",
    "def extract_image_features_hog(image_path):\n",
    "    image = imread(image_path, as_gray=True)\n",
    "    features, _ = hog(image, pixels_per_cell=(8, 8), cells_per_block=(2, 2), visualize=True)\n",
    "    return features\n",
    "\n",
    "\n",
    "def extract_image_features_orb(image_path):\n",
    "    resize_dim=(224, 224)\n",
    "    n_keypoints=500\n",
    "    max_features = 500\n",
    "\n",
    "    image = imread(image_path)\n",
    "\n",
    "    if len(image.shape) == 2:  # Grayscale images\n",
    "        gray_image = image\n",
    "    else:\n",
    "        gray_image = rgb2gray(image)\n",
    "        gray_image = (gray_image * 255).astype(np.uint8)\n",
    "\n",
    "    resized_image = cv2.resize(gray_image, resize_dim, interpolation=cv2.INTER_LINEAR)\n",
    "\n",
    "    orb = cv2.ORB_create(n_keypoints)\n",
    "    _, descriptors = orb.detectAndCompute(resized_image, None)\n",
    "\n",
    "    if descriptors is None:\n",
    "        return np.zeros((n_keypoints * 32,), dtype=np.float32)  # Default ORB descriptor size is 32\n",
    "\n",
    "    descriptors = descriptors.flatten()\n",
    "\n",
    "    if descriptors.shape[0] < max_features:\n",
    "        padded_descriptors = np.zeros((max_features,), dtype=np.float32)\n",
    "        padded_descriptors[:descriptors.shape[0]] = descriptors\n",
    "        return padded_descriptors\n",
    "    else:\n",
    "        return descriptors[:max_features]\n",
    "\n",
    "def extract_image_features_harris(image_path):\n",
    "    image = imread(image_path)\n",
    "\n",
    "    if len(image.shape) == 2:\n",
    "        gray_image = image\n",
    "    else:\n",
    "        gray_image = rgb2gray(image)\n",
    "\n",
    "    corners = corner_peaks(corner_harris(gray_image), min_distance=5)\n",
    "\n",
    "    num_corners = len(corners)\n",
    "    features = np.array([num_corners], dtype=np.float32)\n",
    "    return features\n",
    "\n",
    "\n",
    "def extract_image_features_canny(image_path):\n",
    "    image = imread(image_path)\n",
    "\n",
    "    if len(image.shape) == 2:\n",
    "        gray_image = image\n",
    "    else:\n",
    "        gray_image = rgb2gray(image)\n",
    "\n",
    "    edges = canny(gray_image, sigma=1.0)\n",
    "\n",
    "    edge_percentage = np.sum(edges) / edges.size\n",
    "    features = np.array([edge_percentage], dtype=np.float32)\n",
    "    return features\n",
    "\n",
    "def extract_image_features_sift(image_path):\n",
    "    resize_dim=(224, 224)\n",
    "    n_features=500\n",
    "    descriptor_size=200\n",
    "    \n",
    "    image = imread(image_path)\n",
    "    if len(image.shape) == 2:  # Grayscale images\n",
    "        gray_image = image\n",
    "    else:\n",
    "        gray_image = rgb2gray(image)\n",
    "        gray_image = (gray_image * 255).astype(np.uint8)\n",
    "\n",
    "    resized_image = cv2.resize(gray_image, resize_dim, interpolation=cv2.INTER_LINEAR)\n",
    "\n",
    "    sift = cv2.SIFT_create(nfeatures=n_features)\n",
    "    _, descriptors = sift.detectAndCompute(resized_image, None)\n",
    "\n",
    "    if descriptors is None:\n",
    "        return np.zeros((descriptor_size,), dtype=np.float32)\n",
    "\n",
    "    descriptors = descriptors.flatten()\n",
    "    if descriptors.size < descriptor_size:\n",
    "        padded_descriptors = np.zeros((descriptor_size,), dtype=np.float32)\n",
    "        padded_descriptors[:descriptors.size] = descriptors\n",
    "        return padded_descriptors\n",
    "    else:\n",
    "        return descriptors[:descriptor_size]"
   ]
  },
  {
   "cell_type": "code",
   "execution_count": null,
   "metadata": {},
   "outputs": [
    {
     "name": "stderr",
     "output_type": "stream",
     "text": [
      "Processing train images: 100%|██████████| 1000/1000 [00:00<00:00, 3702.72it/s]\n"
     ]
    },
    {
     "name": "stdout",
     "output_type": "stream",
     "text": [
      "Image features for train saved to ../data_students/labeled_data/img_features/img_feat_ced_train.csv.\n"
     ]
    },
    {
     "name": "stderr",
     "output_type": "stream",
     "text": [
      "Processing test images: 100%|██████████| 500/500 [00:00<00:00, 4017.64it/s]\n"
     ]
    },
    {
     "name": "stdout",
     "output_type": "stream",
     "text": [
      "Image features for test saved to ../data_students/labeled_data/img_features/img_feat_ced_test.csv.\n"
     ]
    },
    {
     "name": "stderr",
     "output_type": "stream",
     "text": [
      "Processing predict images: 100%|██████████| 500/500 [00:00<00:00, 2415.61it/s]"
     ]
    },
    {
     "name": "stdout",
     "output_type": "stream",
     "text": [
      "Image features for predict saved to ../data_students/unlabeled_data/img_features/img_feat_ced_predict.csv.\n"
     ]
    },
    {
     "name": "stderr",
     "output_type": "stream",
     "text": [
      "\n"
     ]
    }
   ],
   "source": [
    "def create_features(mode, extractor, cropped=True):\n",
    "    if mode not in ['train', 'test', 'predict']:\n",
    "        raise ValueError(\"Mode must be either 'train' or 'test'.\")\n",
    "    \n",
    "    if mode == 'predict':\n",
    "        if cropped:\n",
    "            image_folder = f\"{FOLDER_INPUT_PATH_PREDICT}Img_cropped/\"\n",
    "        else:\n",
    "            image_folder = f\"{FOLDER_INPUT_PATH_PREDICT}Img/\"\n",
    "        output_feature_csv = f\"{FOLDER_OUTPUT_PATH_PREDICT}img_features/img_feat_{extractor}_{mode}.csv\"\n",
    "\n",
    "        feature_list = []\n",
    "        filenames = []\n",
    "\n",
    "        image_files = [img_file for img_file in sorted(os.listdir(image_folder)) if img_file.endswith('.png')]\n",
    "\n",
    "        for img_file in tqdm(image_files, desc=f\"Processing {mode} images\"):\n",
    "            img_path = os.path.join(image_folder, img_file)\n",
    "            \n",
    "            features = None\n",
    "            if extractor == 'hog':\n",
    "                features = extract_image_features_hog(img_path)\n",
    "            elif extractor == 'orb':\n",
    "                features = extract_image_features_orb(img_path)\n",
    "            elif extractor == 'harris':\n",
    "                features = extract_image_features_harris(img_path)\n",
    "            elif extractor == 'ced':\n",
    "                features = extract_image_features_canny(img_path)\n",
    "            feature_list.append(features)\n",
    "            filenames.append(img_file)\n",
    "\n",
    "    for img_file in tqdm(image_files, desc=f\"Processing {mode} images\"):\n",
    "        img_path = os.path.join(image_folder, img_file)\n",
    "        \n",
    "        features = None\n",
    "        if extractor == 'hog':\n",
    "            features = extract_image_features_hog(img_path)\n",
    "        elif extractor == 'orb':\n",
    "            features = extract_image_features_orb(img_path)\n",
    "        elif extractor == 'harris':\n",
    "            features = extract_image_features_harris(img_path)\n",
    "        elif extractor == 'ced':\n",
    "            features = extract_image_features_canny(img_path)\n",
    "        elif extractor == 'sift':\n",
    "            features = extract_image_features_sift(img_path)\n",
    "        feature_list.append(features)\n",
    "        filenames.append(img_file)\n",
    "\n",
    "    else : \n",
    "        if cropped:\n",
    "            image_folder = f\"{FOLDER_INPUT_PATH}Img_{mode}_cropped/\"\n",
    "        else:\n",
    "            image_folder = f\"{FOLDER_INPUT_PATH}Img_{mode}/\"\n",
    "        output_feature_csv = f\"{FOLDER_OUTPUT_PATH}img_feat_{extractor}_{mode}.csv\"\n",
    "\n",
    "        feature_list = []\n",
    "        filenames = []\n",
    "\n",
    "        image_files = [img_file for img_file in sorted(os.listdir(image_folder)) if img_file.endswith('.png')]\n",
    "\n",
    "        for img_file in tqdm(image_files, desc=f\"Processing {mode} images\"):\n",
    "            img_path = os.path.join(image_folder, img_file)\n",
    "            \n",
    "            features = None\n",
    "            if extractor == 'hog':\n",
    "                features = extract_image_features_hog(img_path)\n",
    "            elif extractor == 'orb':\n",
    "                features = extract_image_features_orb(img_path)\n",
    "            elif extractor == 'harris':\n",
    "                features = extract_image_features_harris(img_path)\n",
    "            elif extractor == 'ced':\n",
    "                features = extract_image_features_canny(img_path)\n",
    "            feature_list.append(features)\n",
    "            filenames.append(img_file)\n",
    "\n",
    "        feature_df = pd.DataFrame(feature_list)\n",
    "        feature_df['img_filename'] = filenames\n",
    "        feature_df.to_csv(output_feature_csv, index=False)\n",
    "        print(f\"Image features for {mode} saved to {output_feature_csv}.\")\n",
    "\n",
    "\n",
    "# create_features('train', 'hog')\n",
    "# create_features('test', 'hog')\n",
    "create_features('train', 'orb')\n",
    "create_features('test', 'orb')\n",
    "# create_features('train', 'harris')\n",
    "# create_features('test', 'harris')\n",
    "# create_features('train', 'ced')\n",
    "# create_features('test', 'ced')\n",
    "# create_features('train', 'sift')\n",
    "# create_features('test', 'sift')"
   ]
  },
  {
   "cell_type": "markdown",
   "metadata": {},
   "source": [
    "# Using PyTorch"
   ]
  },
  {
   "cell_type": "code",
   "execution_count": 13,
   "metadata": {},
   "outputs": [],
   "source": [
    "from pathlib import Path\n",
    "from PIL import Image\n",
    "import torch\n",
    "from torch import nn\n",
    "from torch.optim import Adam\n",
    "from torch.utils.data import Dataset, DataLoader, random_split\n",
    "from torchvision import datasets, transforms\n",
    "import torchvision.models as models\n",
    "import torchvision.transforms as transforms\n",
    "from tqdm import tqdm"
   ]
  },
  {
   "cell_type": "markdown",
   "metadata": {},
   "source": [
    "##### Dataset transformations"
   ]
  },
  {
   "cell_type": "code",
   "execution_count": 30,
   "metadata": {},
   "outputs": [],
   "source": [
    "class ImagesDataset(torch.utils.data.Dataset):\n",
    "    def __init__(self, image_folder, label_file, transform=None):\n",
    "        self.image_paths = sorted(list(Path(image_folder).glob(\"*.png\")))\n",
    "        self.labels = pd.read_csv(label_file, header=None).values.flatten()\n",
    "        self.transform = transform\n",
    "        assert len(self.image_paths) == len(self.labels), \"Mismatch between images and labels!\"\n",
    "\n",
    "    def __len__(self):\n",
    "        return len(self.image_paths)\n",
    "\n",
    "    def __getitem__(self, idx):\n",
    "        img_path = self.image_paths[idx]\n",
    "        label = self.labels[idx]\n",
    "        image = Image.open(img_path).convert(\"L\")\n",
    "        if self.transform:\n",
    "            image = self.transform(image)\n",
    "        return image, torch.tensor([label], dtype=torch.float32)\n",
    "    \n",
    "class ImagesDatasetUnlabeled(torch.utils.data.Dataset):\n",
    "    def __init__(self, image_folder, transform=None):\n",
    "        self.image_paths = sorted(list(Path(image_folder).glob(\"*.png\")))\n",
    "        self.transform = transform\n",
    "\n",
    "    def __len__(self):\n",
    "        return len(self.image_paths)\n",
    "\n",
    "    def __getitem__(self, idx):\n",
    "        img_path = self.image_paths[idx]\n",
    "        image = Image.open(img_path).convert(\"L\")\n",
    "        if self.transform:\n",
    "            image = self.transform(image)\n",
    "        return image\n",
    "\n",
    "class TransformDataset(Dataset):\n",
    "    def __init__(self, dataset, indices, transform=None):\n",
    "        self.dataset = dataset\n",
    "        self.indices = indices\n",
    "        self.transform = transform\n",
    "\n",
    "        if hasattr(dataset, 'image_paths'):\n",
    "            self.image_paths = [dataset.image_paths[i] for i in indices]\n",
    "        else:\n",
    "            self.image_paths = [None] * len(indices)\n",
    "\n",
    "    def __len__(self):\n",
    "        return len(self.indices)\n",
    "\n",
    "    def __getitem__(self, idx):\n",
    "        original_idx = self.indices[idx]\n",
    "        image, label = self.dataset[original_idx]\n",
    "        if self.transform:\n",
    "            image = self.transform(image)\n",
    "        return image, label\n",
    "\n",
    "transform = transforms.Compose([\n",
    "    transforms.Grayscale(num_output_channels=1),  # Convert to grayscale\n",
    "    transforms.Resize((32, 32)),\n",
    "    transforms.ToTensor(),\n",
    "    transforms.Normalize((0.5,), (0.5,))  # Normalize to [-1, 1]\n",
    "])\n",
    "train_transform = transforms.Compose([\n",
    "    transforms.RandomHorizontalFlip(p=0.5),          # Randomly flip the image horizontally\n",
    "    transforms.RandomVerticalFlip(p=0.5),            # Randomly flip the image vertically\n",
    "    transforms.RandomRotation(degrees=15),           # Randomly rotate the image by up to 15 degrees\n",
    "    transforms.ColorJitter(brightness=0.2,           # Randomly adjust brightness, contrast, and saturation\n",
    "                           contrast=0.2,\n",
    "                           saturation=0.2,\n",
    "                           hue=0.1),\n",
    "    transforms.Grayscale(num_output_channels=1),    # Convert to grayscale\n",
    "    transforms.Resize((32, 32)),                    # Resize to match the model's input size\n",
    "    transforms.ToTensor(),                          # Convert the image to a PyTorch tensor\n",
    "    transforms.Normalize((0.5,), (0.5,))            # Normalize to [-1, 1]\n",
    "])\n",
    "val_transform = transforms.Compose([\n",
    "    transforms.Grayscale(num_output_channels=1),  # Convert to grayscale\n",
    "    transforms.Resize((32, 32)),\n",
    "    transforms.ToTensor(),\n",
    "    transforms.Normalize((0.5,), (0.5,))            # Normalize to [-1, 1]\n",
    "])\n",
    "train_pretrained_transform = transforms.Compose([\n",
    "    transforms.RandomHorizontalFlip(p=0.5),\n",
    "    transforms.RandomVerticalFlip(p=0.5),\n",
    "    transforms.RandomRotation(degrees=15),\n",
    "    transforms.ColorJitter(brightness=0.3, contrast=0.3, saturation=0.3, hue=0.2),\n",
    "    transforms.Grayscale(num_output_channels=3),\n",
    "    transforms.Resize((224, 224)),\n",
    "    transforms.ToTensor(),\n",
    "    transforms.Normalize(mean=[0.485, 0.456, 0.406], std=[0.229, 0.224, 0.225])\n",
    "])"
   ]
  },
  {
   "cell_type": "markdown",
   "metadata": {},
   "source": [
    "##### Simple data"
   ]
  },
  {
   "cell_type": "code",
   "execution_count": 31,
   "metadata": {},
   "outputs": [],
   "source": [
    "train_image_folder = f\"{FOLDER_INPUT_PATH}Img_train_cropped/\"\n",
    "train_label_file = f\"{FOLDER_INPUT_PATH}y_train.csv\"\n",
    "test_image_folder = f\"{FOLDER_INPUT_PATH}Img_test_cropped/\"\n",
    "test_label_file = f\"{FOLDER_INPUT_PATH}y_test.csv\"\n",
    "\n",
    "predict_image_folder = f\"{FOLDER_INPUT_PATH_PREDICT}Img_cropped/\"\n",
    "\n",
    "\n",
    "train_dataset = ImagesDataset(train_image_folder, train_label_file, transform=transform)\n",
    "test_dataset = ImagesDataset(test_image_folder, test_label_file, transform=transform)\n",
    "predict_dataset = ImagesDatasetUnlabeled(predict_image_folder, transform=transform)\n",
    "\n",
    "train_split_ratio = 0.8\n",
    "train_size = int(train_split_ratio * len(train_dataset))\n",
    "val_size = len(train_dataset) - train_size\n",
    "train_indices, val_indices = torch.utils.data.random_split(\n",
    "    range(len(train_dataset)), [train_size, val_size]\n",
    ")\n",
    "\n",
    "train_subset = TransformDataset(train_dataset, train_indices, transform=None)\n",
    "val_subset = TransformDataset(train_dataset, val_indices, transform=None)"
   ]
  },
  {
   "cell_type": "markdown",
   "metadata": {},
   "source": [
    "##### Data augmentation"
   ]
  },
  {
   "cell_type": "code",
   "execution_count": null,
   "metadata": {},
   "outputs": [],
   "source": [
    "train_image_folder = f\"{FOLDER_INPUT_PATH}Img_train_cropped/\"\n",
    "train_label_file = f\"{FOLDER_INPUT_PATH}y_train.csv\"\n",
    "test_image_folder = f\"{FOLDER_INPUT_PATH}Img_test_cropped/\"\n",
    "test_label_file = f\"{FOLDER_INPUT_PATH}y_test.csv\"\n",
    "\n",
    "\n",
    "train_dataset = ImagesDataset(train_image_folder, train_label_file, transform=None)\n",
    "test_dataset = ImagesDataset(test_image_folder, test_label_file, transform=val_transform)\n",
    "\n",
    "train_split_ratio = 0.8\n",
    "train_size = int(train_split_ratio * len(train_dataset))\n",
    "val_size = len(train_dataset) - train_size\n",
    "\n",
    "train_indices, val_indices = torch.utils.data.random_split(\n",
    "    range(len(train_dataset)), [train_size, val_size]\n",
    ")\n",
    "\n",
    "train_subset = TransformDataset(train_dataset, train_indices.indices, transform=train_transform)\n",
    "val_subset = TransformDataset(train_dataset, train_indices.indices, transform=val_transform)"
   ]
  },
  {
   "cell_type": "markdown",
   "metadata": {},
   "source": [
    "##### Training and eval"
   ]
  },
  {
   "cell_type": "code",
   "execution_count": 22,
   "metadata": {},
   "outputs": [],
   "source": [
    "def train_model(model, train_loader, val_loader, learning_rate, num_epochs, pretrained=False):\n",
    "    device = torch.device(\"cuda\" if torch.cuda.is_available() else \"cpu\")\n",
    "    model.to(device)\n",
    "    train_losses = []\n",
    "    val_losses = []\n",
    "    criterion = nn.BCEWithLogitsLoss()\n",
    "    optimizer = Adam(model.parameters(), lr=learning_rate)\n",
    "\n",
    "    for epoch in range(num_epochs):\n",
    "        # Training phase\n",
    "        model.train()\n",
    "        train_loss = 0.0\n",
    "        progress_bar = tqdm(train_loader, desc=f\"Epoch {epoch + 1}/{num_epochs} [Training]\")\n",
    "        \n",
    "        for images, labels in progress_bar:\n",
    "            images, labels = images.to(device), labels.to(device)\n",
    "\n",
    "            outputs = model(images)\n",
    "            loss = criterion(outputs, labels)\n",
    "\n",
    "            optimizer.zero_grad()\n",
    "            loss.backward()\n",
    "            optimizer.step()\n",
    "\n",
    "            train_loss += loss.item()\n",
    "            progress_bar.set_postfix(train_loss=(train_loss / (progress_bar.n + 1)))\n",
    "\n",
    "        # Validation phase\n",
    "        model.eval()\n",
    "        val_loss = 0.0\n",
    "        with torch.no_grad():\n",
    "            for images, labels in val_loader:\n",
    "                images, labels = images.to(device), labels.to(device)\n",
    "                if pretrained:\n",
    "                    outputs = torch.sigmoid(model(images))\n",
    "                outputs = model(images)\n",
    "                loss = criterion(outputs, labels)\n",
    "                val_loss += loss.item()\n",
    "\n",
    "        train_loss /= len(train_loader)\n",
    "        val_loss /= len(val_loader)\n",
    "        print(f\"Epoch {epoch + 1} - Train Loss: {train_loss:.4f}, Val Loss: {val_loss:.4f}\")\n",
    "        train_losses.append(train_loss)\n",
    "        val_losses.append(val_loss)\n",
    "\n",
    "        checkpoint_path = f\"pretrained/{type(model).__name__}_e{epoch + 1}.pth\"\n",
    "        torch.save(model.state_dict(), checkpoint_path)\n",
    "        print(f\"Model weights saved for epoch {epoch + 1} as '{checkpoint_path}'\")\n",
    "\n",
    "    plt.figure(figsize=(10, 6))\n",
    "    plt.plot(range(1, len(train_losses) + 1), train_losses, label='Train Loss')\n",
    "    plt.plot(range(1, len(train_losses) + 1), val_losses, label='Validation Loss')\n",
    "    plt.xlabel('Epoch')\n",
    "    plt.ylabel('Loss')\n",
    "    plt.title('Train and Validation Loss Over Epochs')\n",
    "    plt.legend()\n",
    "    plt.grid(True)\n",
    "    plt.show()\n",
    "\n",
    "    return train_losses, val_losses\n",
    "\n",
    "def test_model(model, test_loader, pretrained=False):\n",
    "    device = torch.device(\"cuda\" if torch.cuda.is_available() else \"cpu\")\n",
    "    model.eval()\n",
    "    test_loss = 0.0\n",
    "    correct = 0\n",
    "    total = 0\n",
    "    criterion = nn.BCEWithLogitsLoss()\n",
    "    with torch.no_grad():\n",
    "        for images, labels in test_loader:\n",
    "            images, labels = images.to(device), labels.to(device)\n",
    "            outputs = model(images)\n",
    "            if pretrained:\n",
    "                outputs = torch.sigmoid(model(images))\n",
    "            loss = criterion(outputs, labels)\n",
    "            test_loss += loss.item()\n",
    "\n",
    "            predictions = (outputs > 0.5).float()\n",
    "            correct += (predictions == labels).sum().item()\n",
    "            total += labels.size(0)\n",
    "    \n",
    "    accuracy = correct / total * 100 if total > 0 else 0\n",
    "    print(f\"Test Loss: {test_loss / len(test_loader):.4f}, Test Accuracy: {accuracy:.2f}%\")\n",
    "    return test_loss / len(test_loader), accuracy"
   ]
  },
  {
   "cell_type": "markdown",
   "metadata": {},
   "source": [
    "### Pre-trained models"
   ]
  },
  {
   "cell_type": "code",
   "execution_count": 23,
   "metadata": {},
   "outputs": [
    {
     "ename": "NameError",
     "evalue": "name 'ResNet18_Weights' is not defined",
     "output_type": "error",
     "traceback": [
      "\u001b[0;31m---------------------------------------------------------------------------\u001b[0m",
      "\u001b[0;31mNameError\u001b[0m                                 Traceback (most recent call last)",
      "Cell \u001b[0;32mIn[23], line 5\u001b[0m\n\u001b[1;32m      1\u001b[0m \u001b[38;5;28;01mimport\u001b[39;00m \u001b[38;5;21;01mtorchvision\u001b[39;00m\u001b[38;5;21;01m.\u001b[39;00m\u001b[38;5;21;01mmodels\u001b[39;00m \u001b[38;5;28;01mas\u001b[39;00m \u001b[38;5;21;01mmodels\u001b[39;00m\n\u001b[1;32m      3\u001b[0m NUM_CLASSES \u001b[38;5;241m=\u001b[39m \u001b[38;5;241m1\u001b[39m\n\u001b[0;32m----> 5\u001b[0m resnet18 \u001b[38;5;241m=\u001b[39m models\u001b[38;5;241m.\u001b[39mresnet18(weights\u001b[38;5;241m=\u001b[39m\u001b[43mResNet18_Weights\u001b[49m\u001b[38;5;241m.\u001b[39mIMAGENET1K_V1)\n\u001b[1;32m      6\u001b[0m resnet18\u001b[38;5;241m.\u001b[39mfc \u001b[38;5;241m=\u001b[39m nn\u001b[38;5;241m.\u001b[39mLinear(resnet18\u001b[38;5;241m.\u001b[39mfc\u001b[38;5;241m.\u001b[39min_features, NUM_CLASSES)\n\u001b[1;32m      8\u001b[0m squeezenet \u001b[38;5;241m=\u001b[39m models\u001b[38;5;241m.\u001b[39msqueezenet1_0(weights\u001b[38;5;241m=\u001b[39mSqueezeNet1_0_Weights\u001b[38;5;241m.\u001b[39mIMAGENET1K_V1)\n",
      "\u001b[0;31mNameError\u001b[0m: name 'ResNet18_Weights' is not defined"
     ]
    }
   ],
   "source": [
    "import torchvision.models as models\n",
    "\n",
    "NUM_CLASSES = 1\n",
    "\n",
    "resnet18 = models.resnet18(weights=ResNet18_Weights.IMAGENET1K_V1)\n",
    "resnet18.fc = nn.Linear(resnet18.fc.in_features, NUM_CLASSES)\n",
    "\n",
    "squeezenet = models.squeezenet1_0(weights=SqueezeNet1_0_Weights.IMAGENET1K_V1)\n",
    "squeezenet.classifier = nn.Sequential(\n",
    "    nn.Dropout(0.7),\n",
    "    nn.Conv2d(512, NUM_CLASSES, kernel_size=1),\n",
    "    nn.Sigmoid(),\n",
    "    nn.AdaptiveAvgPool2d((1, 1)),\n",
    "    nn.Flatten()\n",
    ")\n",
    "\n",
    "mobilenetv3 = models.mobilenet_v3_small(weights=MobileNet_V3_Small_Weights.IMAGENET1K_V1)\n",
    "mobilenetv3.classifier = nn.Sequential(\n",
    "    nn.Linear(mobilenetv3.classifier[0].in_features, NUM_CLASSES),\n",
    ")\n",
    "\n",
    "for model in [resnet18, squeezenet, mobilenetv3]:\n",
    "    for param in model.parameters():\n",
    "        param.requires_grad = False\n",
    "    if isinstance(model, models.ResNet):\n",
    "        model.fc.weight.requires_grad = True\n",
    "        model.fc.bias.requires_grad = True\n",
    "    elif isinstance(model, models.SqueezeNet):\n",
    "        for param in model.classifier.parameters():\n",
    "            param.requires_grad = True\n",
    "    elif isinstance(model, models.MobileNetV3):\n",
    "        for param in model.classifier.parameters():\n",
    "            param.requires_grad = True"
   ]
  },
  {
   "cell_type": "code",
   "execution_count": 72,
   "metadata": {},
   "outputs": [
    {
     "name": "stderr",
     "output_type": "stream",
     "text": [
      "Epoch 1/10 [Training]: 100%|██████████| 25/25 [00:03<00:00,  6.75it/s, train_loss=0.385]\n"
     ]
    },
    {
     "name": "stdout",
     "output_type": "stream",
     "text": [
      "Epoch 1 - Train Loss: 0.3845, Val Loss: 0.7022\n",
      "Model weights saved for epoch 1 as 'pretrained/MobileNetV3_e1.pth'\n"
     ]
    },
    {
     "name": "stderr",
     "output_type": "stream",
     "text": [
      "Epoch 2/10 [Training]: 100%|██████████| 25/25 [00:03<00:00,  7.13it/s, train_loss=0.301]\n"
     ]
    },
    {
     "name": "stdout",
     "output_type": "stream",
     "text": [
      "Epoch 2 - Train Loss: 0.3010, Val Loss: 0.7747\n",
      "Model weights saved for epoch 2 as 'pretrained/MobileNetV3_e2.pth'\n"
     ]
    },
    {
     "name": "stderr",
     "output_type": "stream",
     "text": [
      "Epoch 3/10 [Training]: 100%|██████████| 25/25 [00:03<00:00,  7.05it/s, train_loss=0.288]\n"
     ]
    },
    {
     "name": "stdout",
     "output_type": "stream",
     "text": [
      "Epoch 3 - Train Loss: 0.2882, Val Loss: 0.8377\n",
      "Model weights saved for epoch 3 as 'pretrained/MobileNetV3_e3.pth'\n"
     ]
    },
    {
     "name": "stderr",
     "output_type": "stream",
     "text": [
      "Epoch 4/10 [Training]: 100%|██████████| 25/25 [00:03<00:00,  7.09it/s, train_loss=0.282]\n"
     ]
    },
    {
     "name": "stdout",
     "output_type": "stream",
     "text": [
      "Epoch 4 - Train Loss: 0.2823, Val Loss: 0.7888\n",
      "Model weights saved for epoch 4 as 'pretrained/MobileNetV3_e4.pth'\n"
     ]
    },
    {
     "name": "stderr",
     "output_type": "stream",
     "text": [
      "Epoch 5/10 [Training]: 100%|██████████| 25/25 [00:03<00:00,  7.06it/s, train_loss=0.274]\n"
     ]
    },
    {
     "name": "stdout",
     "output_type": "stream",
     "text": [
      "Epoch 5 - Train Loss: 0.2745, Val Loss: 0.6749\n",
      "Model weights saved for epoch 5 as 'pretrained/MobileNetV3_e5.pth'\n"
     ]
    },
    {
     "name": "stderr",
     "output_type": "stream",
     "text": [
      "Epoch 6/10 [Training]: 100%|██████████| 25/25 [00:03<00:00,  7.19it/s, train_loss=0.277]\n"
     ]
    },
    {
     "name": "stdout",
     "output_type": "stream",
     "text": [
      "Epoch 6 - Train Loss: 0.2770, Val Loss: 0.5481\n",
      "Model weights saved for epoch 6 as 'pretrained/MobileNetV3_e6.pth'\n"
     ]
    },
    {
     "name": "stderr",
     "output_type": "stream",
     "text": [
      "Epoch 7/10 [Training]: 100%|██████████| 25/25 [00:03<00:00,  6.98it/s, train_loss=0.271]\n"
     ]
    },
    {
     "name": "stdout",
     "output_type": "stream",
     "text": [
      "Epoch 7 - Train Loss: 0.2707, Val Loss: 0.4383\n",
      "Model weights saved for epoch 7 as 'pretrained/MobileNetV3_e7.pth'\n"
     ]
    },
    {
     "name": "stderr",
     "output_type": "stream",
     "text": [
      "Epoch 8/10 [Training]: 100%|██████████| 25/25 [00:03<00:00,  7.00it/s, train_loss=0.271]\n"
     ]
    },
    {
     "name": "stdout",
     "output_type": "stream",
     "text": [
      "Epoch 8 - Train Loss: 0.2710, Val Loss: 0.3688\n",
      "Model weights saved for epoch 8 as 'pretrained/MobileNetV3_e8.pth'\n"
     ]
    },
    {
     "name": "stderr",
     "output_type": "stream",
     "text": [
      "Epoch 9/10 [Training]: 100%|██████████| 25/25 [00:03<00:00,  7.16it/s, train_loss=0.274]\n"
     ]
    },
    {
     "name": "stdout",
     "output_type": "stream",
     "text": [
      "Epoch 9 - Train Loss: 0.2736, Val Loss: 0.3265\n",
      "Model weights saved for epoch 9 as 'pretrained/MobileNetV3_e9.pth'\n"
     ]
    },
    {
     "name": "stderr",
     "output_type": "stream",
     "text": [
      "Epoch 10/10 [Training]: 100%|██████████| 25/25 [00:03<00:00,  7.19it/s, train_loss=0.271]\n"
     ]
    },
    {
     "name": "stdout",
     "output_type": "stream",
     "text": [
      "Epoch 10 - Train Loss: 0.2706, Val Loss: 0.3088\n",
      "Model weights saved for epoch 10 as 'pretrained/MobileNetV3_e10.pth'\n"
     ]
    },
    {
     "data": {
      "image/png": "[encoded data removed]",
      "text/plain": [
       "<Figure size 1000x600 with 1 Axes>"
      ]
     },
     "metadata": {},
     "output_type": "display_data"
    },
    {
     "name": "stdout",
     "output_type": "stream",
     "text": [
      "Test Loss: 0.3263, Test Accuracy: 17.40%\n"
     ]
    },
    {
     "data": {
      "text/plain": [
       "(0.32630416192114353, 17.4)"
      ]
     },
     "execution_count": 72,
     "metadata": {},
     "output_type": "execute_result"
    }
   ],
   "source": [
    "batch_size = 32\n",
    "train_loader = DataLoader(train_subset, batch_size=batch_size, shuffle=True)\n",
    "val_loader = DataLoader(val_subset, batch_size=batch_size, shuffle=False)\n",
    "test_loader = DataLoader(test_dataset, batch_size=batch_size, shuffle=False)\n",
    "\n",
    "# train_losses, val_losses = train_model(resnet18, train_loader, val_loader, learning_rate=0.001, num_epochs=10, pretrained=True)\n",
    "# test_model(resnet18, test_loader)\n",
    "\n",
    "# train_losses, val_losses = train_model(squeezenet, train_loader, val_loader, learning_rate=0.001, num_epochs=10, pretrained=True)\n",
    "# test_model(squeezenet, test_loader)\n",
    "\n",
    "train_losses, val_losses = train_model(mobilenetv3, train_loader, val_loader, learning_rate=0.001, num_epochs=10, pretrained=True)\n",
    "test_model(mobilenetv3, test_loader)"
   ]
  },
  {
   "cell_type": "code",
   "execution_count": 24,
   "metadata": {},
   "outputs": [
    {
     "name": "stderr",
     "output_type": "stream",
     "text": [
      "/Users/baptiste/anaconda3/lib/python3.11/site-packages/torch/_utils.py:831: UserWarning: TypedStorage is deprecated. It will be removed in the future and UntypedStorage will be the only storage class. This should only matter to you if you are using storages directly.  To access UntypedStorage directly, use tensor.untyped_storage() instead of tensor.storage()\n",
      "  return self.fget.__get__(instance, owner)()\n",
      "Processing images in ../data_students/labeled_data/Img_train_cropped/:  23%|██▎       | 233/1000 [00:30<01:39,  7.72it/s]\n"
     ]
    },
    {
     "ename": "KeyboardInterrupt",
     "evalue": "",
     "output_type": "error",
     "traceback": [
      "\u001b[0;31m---------------------------------------------------------------------------\u001b[0m",
      "\u001b[0;31mKeyboardInterrupt\u001b[0m                         Traceback (most recent call last)",
      "Cell \u001b[0;32mIn[24], line 90\u001b[0m\n\u001b[1;32m     83\u001b[0m \u001b[38;5;66;03m# squeezenet = load_model('squeezenet', f\"{PRETRAINED_PATH}SqueezeNet_e10.pth\")\u001b[39;00m\n\u001b[1;32m     84\u001b[0m \u001b[38;5;66;03m# process_images('train', squeezenet)\u001b[39;00m\n\u001b[1;32m     85\u001b[0m \u001b[38;5;66;03m# process_images('test', squeezenet)\u001b[39;00m\n\u001b[1;32m     86\u001b[0m \u001b[38;5;66;03m# resnet18 = load_model('resnet18', f\"{PRETRAINED_PATH}ResNet_e10.pth\")\u001b[39;00m\n\u001b[1;32m     87\u001b[0m \u001b[38;5;66;03m# process_images('train', resnet18)\u001b[39;00m\n\u001b[1;32m     88\u001b[0m \u001b[38;5;66;03m# process_images('test', resnet18)\u001b[39;00m\n\u001b[1;32m     89\u001b[0m mobilenetv3 \u001b[38;5;241m=\u001b[39m load_model(\u001b[38;5;124m'\u001b[39m\u001b[38;5;124mmobilenetv3\u001b[39m\u001b[38;5;124m'\u001b[39m, \u001b[38;5;124mf\u001b[39m\u001b[38;5;124m\"\u001b[39m\u001b[38;5;132;01m{\u001b[39;00mPRETRAINED_PATH\u001b[38;5;132;01m}\u001b[39;00m\u001b[38;5;124mMobileNetV3_e10.pth\u001b[39m\u001b[38;5;124m\"\u001b[39m)\n\u001b[0;32m---> 90\u001b[0m \u001b[43mprocess_images\u001b[49m\u001b[43m(\u001b[49m\u001b[38;5;124;43m'\u001b[39;49m\u001b[38;5;124;43mtrain\u001b[39;49m\u001b[38;5;124;43m'\u001b[39;49m\u001b[43m,\u001b[49m\u001b[43m \u001b[49m\u001b[43mmobilenetv3\u001b[49m\u001b[43m)\u001b[49m\n\u001b[1;32m     91\u001b[0m process_images(\u001b[38;5;124m'\u001b[39m\u001b[38;5;124mtest\u001b[39m\u001b[38;5;124m'\u001b[39m, mobilenetv3)\n",
      "Cell \u001b[0;32mIn[24], line 74\u001b[0m, in \u001b[0;36mprocess_images\u001b[0;34m(mode, model, cropped)\u001b[0m\n\u001b[1;32m     72\u001b[0m \u001b[38;5;28;01mfor\u001b[39;00m img_file \u001b[38;5;129;01min\u001b[39;00m tqdm(image_files, desc\u001b[38;5;241m=\u001b[39m\u001b[38;5;124mf\u001b[39m\u001b[38;5;124m\"\u001b[39m\u001b[38;5;124mProcessing images in \u001b[39m\u001b[38;5;132;01m{\u001b[39;00mfolder\u001b[38;5;132;01m}\u001b[39;00m\u001b[38;5;124m\"\u001b[39m):\n\u001b[1;32m     73\u001b[0m     img_path \u001b[38;5;241m=\u001b[39m os\u001b[38;5;241m.\u001b[39mpath\u001b[38;5;241m.\u001b[39mjoin(folder, img_file)\n\u001b[0;32m---> 74\u001b[0m     features \u001b[38;5;241m=\u001b[39m \u001b[43mextract_features\u001b[49m\u001b[43m(\u001b[49m\u001b[43mimg_path\u001b[49m\u001b[43m,\u001b[49m\u001b[43m \u001b[49m\u001b[43mmodel\u001b[49m\u001b[43m)\u001b[49m\n\u001b[1;32m     75\u001b[0m     feature_list\u001b[38;5;241m.\u001b[39mappend(features)\n\u001b[1;32m     76\u001b[0m     filenames\u001b[38;5;241m.\u001b[39mappend(img_file)\n",
      "Cell \u001b[0;32mIn[24], line 56\u001b[0m, in \u001b[0;36mextract_features\u001b[0;34m(image_path, model)\u001b[0m\n\u001b[1;32m     54\u001b[0m     \u001b[38;5;28;01mreturn\u001b[39;00m \u001b[38;5;28;01mNone\u001b[39;00m\n\u001b[1;32m     55\u001b[0m \u001b[38;5;28;01mwith\u001b[39;00m torch\u001b[38;5;241m.\u001b[39mno_grad():\n\u001b[0;32m---> 56\u001b[0m     features \u001b[38;5;241m=\u001b[39m \u001b[43mmodel\u001b[49m\u001b[43m(\u001b[49m\u001b[43mimage_tensor\u001b[49m\u001b[43m)\u001b[49m\n\u001b[1;32m     57\u001b[0m \u001b[38;5;28;01mreturn\u001b[39;00m features\u001b[38;5;241m.\u001b[39mnumpy()\u001b[38;5;241m.\u001b[39mflatten()\n",
      "File \u001b[0;32m~/anaconda3/lib/python3.11/site-packages/torch/nn/modules/module.py:1518\u001b[0m, in \u001b[0;36mModule._wrapped_call_impl\u001b[0;34m(self, *args, **kwargs)\u001b[0m\n\u001b[1;32m   1516\u001b[0m     \u001b[38;5;28;01mreturn\u001b[39;00m \u001b[38;5;28mself\u001b[39m\u001b[38;5;241m.\u001b[39m_compiled_call_impl(\u001b[38;5;241m*\u001b[39margs, \u001b[38;5;241m*\u001b[39m\u001b[38;5;241m*\u001b[39mkwargs)  \u001b[38;5;66;03m# type: ignore[misc]\u001b[39;00m\n\u001b[1;32m   1517\u001b[0m \u001b[38;5;28;01melse\u001b[39;00m:\n\u001b[0;32m-> 1518\u001b[0m     \u001b[38;5;28;01mreturn\u001b[39;00m \u001b[38;5;28;43mself\u001b[39;49m\u001b[38;5;241;43m.\u001b[39;49m\u001b[43m_call_impl\u001b[49m\u001b[43m(\u001b[49m\u001b[38;5;241;43m*\u001b[39;49m\u001b[43margs\u001b[49m\u001b[43m,\u001b[49m\u001b[43m \u001b[49m\u001b[38;5;241;43m*\u001b[39;49m\u001b[38;5;241;43m*\u001b[39;49m\u001b[43mkwargs\u001b[49m\u001b[43m)\u001b[49m\n",
      "File \u001b[0;32m~/anaconda3/lib/python3.11/site-packages/torch/nn/modules/module.py:1527\u001b[0m, in \u001b[0;36mModule._call_impl\u001b[0;34m(self, *args, **kwargs)\u001b[0m\n\u001b[1;32m   1522\u001b[0m \u001b[38;5;66;03m# If we don't have any hooks, we want to skip the rest of the logic in\u001b[39;00m\n\u001b[1;32m   1523\u001b[0m \u001b[38;5;66;03m# this function, and just call forward.\u001b[39;00m\n\u001b[1;32m   1524\u001b[0m \u001b[38;5;28;01mif\u001b[39;00m \u001b[38;5;129;01mnot\u001b[39;00m (\u001b[38;5;28mself\u001b[39m\u001b[38;5;241m.\u001b[39m_backward_hooks \u001b[38;5;129;01mor\u001b[39;00m \u001b[38;5;28mself\u001b[39m\u001b[38;5;241m.\u001b[39m_backward_pre_hooks \u001b[38;5;129;01mor\u001b[39;00m \u001b[38;5;28mself\u001b[39m\u001b[38;5;241m.\u001b[39m_forward_hooks \u001b[38;5;129;01mor\u001b[39;00m \u001b[38;5;28mself\u001b[39m\u001b[38;5;241m.\u001b[39m_forward_pre_hooks\n\u001b[1;32m   1525\u001b[0m         \u001b[38;5;129;01mor\u001b[39;00m _global_backward_pre_hooks \u001b[38;5;129;01mor\u001b[39;00m _global_backward_hooks\n\u001b[1;32m   1526\u001b[0m         \u001b[38;5;129;01mor\u001b[39;00m _global_forward_hooks \u001b[38;5;129;01mor\u001b[39;00m _global_forward_pre_hooks):\n\u001b[0;32m-> 1527\u001b[0m     \u001b[38;5;28;01mreturn\u001b[39;00m \u001b[43mforward_call\u001b[49m\u001b[43m(\u001b[49m\u001b[38;5;241;43m*\u001b[39;49m\u001b[43margs\u001b[49m\u001b[43m,\u001b[49m\u001b[43m \u001b[49m\u001b[38;5;241;43m*\u001b[39;49m\u001b[38;5;241;43m*\u001b[39;49m\u001b[43mkwargs\u001b[49m\u001b[43m)\u001b[49m\n\u001b[1;32m   1529\u001b[0m \u001b[38;5;28;01mtry\u001b[39;00m:\n\u001b[1;32m   1530\u001b[0m     result \u001b[38;5;241m=\u001b[39m \u001b[38;5;28;01mNone\u001b[39;00m\n",
      "File \u001b[0;32m~/anaconda3/lib/python3.11/site-packages/torchvision/models/mobilenetv3.py:220\u001b[0m, in \u001b[0;36mMobileNetV3.forward\u001b[0;34m(self, x)\u001b[0m\n\u001b[1;32m    219\u001b[0m \u001b[38;5;28;01mdef\u001b[39;00m \u001b[38;5;21mforward\u001b[39m(\u001b[38;5;28mself\u001b[39m, x: Tensor) \u001b[38;5;241m-\u001b[39m\u001b[38;5;241m>\u001b[39m Tensor:\n\u001b[0;32m--> 220\u001b[0m     \u001b[38;5;28;01mreturn\u001b[39;00m \u001b[38;5;28;43mself\u001b[39;49m\u001b[38;5;241;43m.\u001b[39;49m\u001b[43m_forward_impl\u001b[49m\u001b[43m(\u001b[49m\u001b[43mx\u001b[49m\u001b[43m)\u001b[49m\n",
      "File \u001b[0;32m~/anaconda3/lib/python3.11/site-packages/torchvision/models/mobilenetv3.py:210\u001b[0m, in \u001b[0;36mMobileNetV3._forward_impl\u001b[0;34m(self, x)\u001b[0m\n\u001b[1;32m    209\u001b[0m \u001b[38;5;28;01mdef\u001b[39;00m \u001b[38;5;21m_forward_impl\u001b[39m(\u001b[38;5;28mself\u001b[39m, x: Tensor) \u001b[38;5;241m-\u001b[39m\u001b[38;5;241m>\u001b[39m Tensor:\n\u001b[0;32m--> 210\u001b[0m     x \u001b[38;5;241m=\u001b[39m \u001b[38;5;28;43mself\u001b[39;49m\u001b[38;5;241;43m.\u001b[39;49m\u001b[43mfeatures\u001b[49m\u001b[43m(\u001b[49m\u001b[43mx\u001b[49m\u001b[43m)\u001b[49m\n\u001b[1;32m    212\u001b[0m     x \u001b[38;5;241m=\u001b[39m \u001b[38;5;28mself\u001b[39m\u001b[38;5;241m.\u001b[39mavgpool(x)\n\u001b[1;32m    213\u001b[0m     x \u001b[38;5;241m=\u001b[39m torch\u001b[38;5;241m.\u001b[39mflatten(x, \u001b[38;5;241m1\u001b[39m)\n",
      "File \u001b[0;32m~/anaconda3/lib/python3.11/site-packages/torch/nn/modules/module.py:1518\u001b[0m, in \u001b[0;36mModule._wrapped_call_impl\u001b[0;34m(self, *args, **kwargs)\u001b[0m\n\u001b[1;32m   1516\u001b[0m     \u001b[38;5;28;01mreturn\u001b[39;00m \u001b[38;5;28mself\u001b[39m\u001b[38;5;241m.\u001b[39m_compiled_call_impl(\u001b[38;5;241m*\u001b[39margs, \u001b[38;5;241m*\u001b[39m\u001b[38;5;241m*\u001b[39mkwargs)  \u001b[38;5;66;03m# type: ignore[misc]\u001b[39;00m\n\u001b[1;32m   1517\u001b[0m \u001b[38;5;28;01melse\u001b[39;00m:\n\u001b[0;32m-> 1518\u001b[0m     \u001b[38;5;28;01mreturn\u001b[39;00m \u001b[38;5;28;43mself\u001b[39;49m\u001b[38;5;241;43m.\u001b[39;49m\u001b[43m_call_impl\u001b[49m\u001b[43m(\u001b[49m\u001b[38;5;241;43m*\u001b[39;49m\u001b[43margs\u001b[49m\u001b[43m,\u001b[49m\u001b[43m \u001b[49m\u001b[38;5;241;43m*\u001b[39;49m\u001b[38;5;241;43m*\u001b[39;49m\u001b[43mkwargs\u001b[49m\u001b[43m)\u001b[49m\n",
      "File \u001b[0;32m~/anaconda3/lib/python3.11/site-packages/torch/nn/modules/module.py:1527\u001b[0m, in \u001b[0;36mModule._call_impl\u001b[0;34m(self, *args, **kwargs)\u001b[0m\n\u001b[1;32m   1522\u001b[0m \u001b[38;5;66;03m# If we don't have any hooks, we want to skip the rest of the logic in\u001b[39;00m\n\u001b[1;32m   1523\u001b[0m \u001b[38;5;66;03m# this function, and just call forward.\u001b[39;00m\n\u001b[1;32m   1524\u001b[0m \u001b[38;5;28;01mif\u001b[39;00m \u001b[38;5;129;01mnot\u001b[39;00m (\u001b[38;5;28mself\u001b[39m\u001b[38;5;241m.\u001b[39m_backward_hooks \u001b[38;5;129;01mor\u001b[39;00m \u001b[38;5;28mself\u001b[39m\u001b[38;5;241m.\u001b[39m_backward_pre_hooks \u001b[38;5;129;01mor\u001b[39;00m \u001b[38;5;28mself\u001b[39m\u001b[38;5;241m.\u001b[39m_forward_hooks \u001b[38;5;129;01mor\u001b[39;00m \u001b[38;5;28mself\u001b[39m\u001b[38;5;241m.\u001b[39m_forward_pre_hooks\n\u001b[1;32m   1525\u001b[0m         \u001b[38;5;129;01mor\u001b[39;00m _global_backward_pre_hooks \u001b[38;5;129;01mor\u001b[39;00m _global_backward_hooks\n\u001b[1;32m   1526\u001b[0m         \u001b[38;5;129;01mor\u001b[39;00m _global_forward_hooks \u001b[38;5;129;01mor\u001b[39;00m _global_forward_pre_hooks):\n\u001b[0;32m-> 1527\u001b[0m     \u001b[38;5;28;01mreturn\u001b[39;00m \u001b[43mforward_call\u001b[49m\u001b[43m(\u001b[49m\u001b[38;5;241;43m*\u001b[39;49m\u001b[43margs\u001b[49m\u001b[43m,\u001b[49m\u001b[43m \u001b[49m\u001b[38;5;241;43m*\u001b[39;49m\u001b[38;5;241;43m*\u001b[39;49m\u001b[43mkwargs\u001b[49m\u001b[43m)\u001b[49m\n\u001b[1;32m   1529\u001b[0m \u001b[38;5;28;01mtry\u001b[39;00m:\n\u001b[1;32m   1530\u001b[0m     result \u001b[38;5;241m=\u001b[39m \u001b[38;5;28;01mNone\u001b[39;00m\n",
      "File \u001b[0;32m~/anaconda3/lib/python3.11/site-packages/torch/nn/modules/container.py:215\u001b[0m, in \u001b[0;36mSequential.forward\u001b[0;34m(self, input)\u001b[0m\n\u001b[1;32m    213\u001b[0m \u001b[38;5;28;01mdef\u001b[39;00m \u001b[38;5;21mforward\u001b[39m(\u001b[38;5;28mself\u001b[39m, \u001b[38;5;28minput\u001b[39m):\n\u001b[1;32m    214\u001b[0m     \u001b[38;5;28;01mfor\u001b[39;00m module \u001b[38;5;129;01min\u001b[39;00m \u001b[38;5;28mself\u001b[39m:\n\u001b[0;32m--> 215\u001b[0m         \u001b[38;5;28minput\u001b[39m \u001b[38;5;241m=\u001b[39m \u001b[43mmodule\u001b[49m\u001b[43m(\u001b[49m\u001b[38;5;28;43minput\u001b[39;49m\u001b[43m)\u001b[49m\n\u001b[1;32m    216\u001b[0m     \u001b[38;5;28;01mreturn\u001b[39;00m \u001b[38;5;28minput\u001b[39m\n",
      "File \u001b[0;32m~/anaconda3/lib/python3.11/site-packages/torch/nn/modules/module.py:1518\u001b[0m, in \u001b[0;36mModule._wrapped_call_impl\u001b[0;34m(self, *args, **kwargs)\u001b[0m\n\u001b[1;32m   1516\u001b[0m     \u001b[38;5;28;01mreturn\u001b[39;00m \u001b[38;5;28mself\u001b[39m\u001b[38;5;241m.\u001b[39m_compiled_call_impl(\u001b[38;5;241m*\u001b[39margs, \u001b[38;5;241m*\u001b[39m\u001b[38;5;241m*\u001b[39mkwargs)  \u001b[38;5;66;03m# type: ignore[misc]\u001b[39;00m\n\u001b[1;32m   1517\u001b[0m \u001b[38;5;28;01melse\u001b[39;00m:\n\u001b[0;32m-> 1518\u001b[0m     \u001b[38;5;28;01mreturn\u001b[39;00m \u001b[38;5;28;43mself\u001b[39;49m\u001b[38;5;241;43m.\u001b[39;49m\u001b[43m_call_impl\u001b[49m\u001b[43m(\u001b[49m\u001b[38;5;241;43m*\u001b[39;49m\u001b[43margs\u001b[49m\u001b[43m,\u001b[49m\u001b[43m \u001b[49m\u001b[38;5;241;43m*\u001b[39;49m\u001b[38;5;241;43m*\u001b[39;49m\u001b[43mkwargs\u001b[49m\u001b[43m)\u001b[49m\n",
      "File \u001b[0;32m~/anaconda3/lib/python3.11/site-packages/torch/nn/modules/module.py:1527\u001b[0m, in \u001b[0;36mModule._call_impl\u001b[0;34m(self, *args, **kwargs)\u001b[0m\n\u001b[1;32m   1522\u001b[0m \u001b[38;5;66;03m# If we don't have any hooks, we want to skip the rest of the logic in\u001b[39;00m\n\u001b[1;32m   1523\u001b[0m \u001b[38;5;66;03m# this function, and just call forward.\u001b[39;00m\n\u001b[1;32m   1524\u001b[0m \u001b[38;5;28;01mif\u001b[39;00m \u001b[38;5;129;01mnot\u001b[39;00m (\u001b[38;5;28mself\u001b[39m\u001b[38;5;241m.\u001b[39m_backward_hooks \u001b[38;5;129;01mor\u001b[39;00m \u001b[38;5;28mself\u001b[39m\u001b[38;5;241m.\u001b[39m_backward_pre_hooks \u001b[38;5;129;01mor\u001b[39;00m \u001b[38;5;28mself\u001b[39m\u001b[38;5;241m.\u001b[39m_forward_hooks \u001b[38;5;129;01mor\u001b[39;00m \u001b[38;5;28mself\u001b[39m\u001b[38;5;241m.\u001b[39m_forward_pre_hooks\n\u001b[1;32m   1525\u001b[0m         \u001b[38;5;129;01mor\u001b[39;00m _global_backward_pre_hooks \u001b[38;5;129;01mor\u001b[39;00m _global_backward_hooks\n\u001b[1;32m   1526\u001b[0m         \u001b[38;5;129;01mor\u001b[39;00m _global_forward_hooks \u001b[38;5;129;01mor\u001b[39;00m _global_forward_pre_hooks):\n\u001b[0;32m-> 1527\u001b[0m     \u001b[38;5;28;01mreturn\u001b[39;00m \u001b[43mforward_call\u001b[49m\u001b[43m(\u001b[49m\u001b[38;5;241;43m*\u001b[39;49m\u001b[43margs\u001b[49m\u001b[43m,\u001b[49m\u001b[43m \u001b[49m\u001b[38;5;241;43m*\u001b[39;49m\u001b[38;5;241;43m*\u001b[39;49m\u001b[43mkwargs\u001b[49m\u001b[43m)\u001b[49m\n\u001b[1;32m   1529\u001b[0m \u001b[38;5;28;01mtry\u001b[39;00m:\n\u001b[1;32m   1530\u001b[0m     result \u001b[38;5;241m=\u001b[39m \u001b[38;5;28;01mNone\u001b[39;00m\n",
      "File \u001b[0;32m~/anaconda3/lib/python3.11/site-packages/torchvision/models/mobilenetv3.py:111\u001b[0m, in \u001b[0;36mInvertedResidual.forward\u001b[0;34m(self, input)\u001b[0m\n\u001b[1;32m    110\u001b[0m \u001b[38;5;28;01mdef\u001b[39;00m \u001b[38;5;21mforward\u001b[39m(\u001b[38;5;28mself\u001b[39m, \u001b[38;5;28minput\u001b[39m: Tensor) \u001b[38;5;241m-\u001b[39m\u001b[38;5;241m>\u001b[39m Tensor:\n\u001b[0;32m--> 111\u001b[0m     result \u001b[38;5;241m=\u001b[39m \u001b[38;5;28;43mself\u001b[39;49m\u001b[38;5;241;43m.\u001b[39;49m\u001b[43mblock\u001b[49m\u001b[43m(\u001b[49m\u001b[38;5;28;43minput\u001b[39;49m\u001b[43m)\u001b[49m\n\u001b[1;32m    112\u001b[0m     \u001b[38;5;28;01mif\u001b[39;00m \u001b[38;5;28mself\u001b[39m\u001b[38;5;241m.\u001b[39muse_res_connect:\n\u001b[1;32m    113\u001b[0m         result \u001b[38;5;241m+\u001b[39m\u001b[38;5;241m=\u001b[39m \u001b[38;5;28minput\u001b[39m\n",
      "File \u001b[0;32m~/anaconda3/lib/python3.11/site-packages/torch/nn/modules/module.py:1518\u001b[0m, in \u001b[0;36mModule._wrapped_call_impl\u001b[0;34m(self, *args, **kwargs)\u001b[0m\n\u001b[1;32m   1516\u001b[0m     \u001b[38;5;28;01mreturn\u001b[39;00m \u001b[38;5;28mself\u001b[39m\u001b[38;5;241m.\u001b[39m_compiled_call_impl(\u001b[38;5;241m*\u001b[39margs, \u001b[38;5;241m*\u001b[39m\u001b[38;5;241m*\u001b[39mkwargs)  \u001b[38;5;66;03m# type: ignore[misc]\u001b[39;00m\n\u001b[1;32m   1517\u001b[0m \u001b[38;5;28;01melse\u001b[39;00m:\n\u001b[0;32m-> 1518\u001b[0m     \u001b[38;5;28;01mreturn\u001b[39;00m \u001b[38;5;28;43mself\u001b[39;49m\u001b[38;5;241;43m.\u001b[39;49m\u001b[43m_call_impl\u001b[49m\u001b[43m(\u001b[49m\u001b[38;5;241;43m*\u001b[39;49m\u001b[43margs\u001b[49m\u001b[43m,\u001b[49m\u001b[43m \u001b[49m\u001b[38;5;241;43m*\u001b[39;49m\u001b[38;5;241;43m*\u001b[39;49m\u001b[43mkwargs\u001b[49m\u001b[43m)\u001b[49m\n",
      "File \u001b[0;32m~/anaconda3/lib/python3.11/site-packages/torch/nn/modules/module.py:1527\u001b[0m, in \u001b[0;36mModule._call_impl\u001b[0;34m(self, *args, **kwargs)\u001b[0m\n\u001b[1;32m   1522\u001b[0m \u001b[38;5;66;03m# If we don't have any hooks, we want to skip the rest of the logic in\u001b[39;00m\n\u001b[1;32m   1523\u001b[0m \u001b[38;5;66;03m# this function, and just call forward.\u001b[39;00m\n\u001b[1;32m   1524\u001b[0m \u001b[38;5;28;01mif\u001b[39;00m \u001b[38;5;129;01mnot\u001b[39;00m (\u001b[38;5;28mself\u001b[39m\u001b[38;5;241m.\u001b[39m_backward_hooks \u001b[38;5;129;01mor\u001b[39;00m \u001b[38;5;28mself\u001b[39m\u001b[38;5;241m.\u001b[39m_backward_pre_hooks \u001b[38;5;129;01mor\u001b[39;00m \u001b[38;5;28mself\u001b[39m\u001b[38;5;241m.\u001b[39m_forward_hooks \u001b[38;5;129;01mor\u001b[39;00m \u001b[38;5;28mself\u001b[39m\u001b[38;5;241m.\u001b[39m_forward_pre_hooks\n\u001b[1;32m   1525\u001b[0m         \u001b[38;5;129;01mor\u001b[39;00m _global_backward_pre_hooks \u001b[38;5;129;01mor\u001b[39;00m _global_backward_hooks\n\u001b[1;32m   1526\u001b[0m         \u001b[38;5;129;01mor\u001b[39;00m _global_forward_hooks \u001b[38;5;129;01mor\u001b[39;00m _global_forward_pre_hooks):\n\u001b[0;32m-> 1527\u001b[0m     \u001b[38;5;28;01mreturn\u001b[39;00m \u001b[43mforward_call\u001b[49m\u001b[43m(\u001b[49m\u001b[38;5;241;43m*\u001b[39;49m\u001b[43margs\u001b[49m\u001b[43m,\u001b[49m\u001b[43m \u001b[49m\u001b[38;5;241;43m*\u001b[39;49m\u001b[38;5;241;43m*\u001b[39;49m\u001b[43mkwargs\u001b[49m\u001b[43m)\u001b[49m\n\u001b[1;32m   1529\u001b[0m \u001b[38;5;28;01mtry\u001b[39;00m:\n\u001b[1;32m   1530\u001b[0m     result \u001b[38;5;241m=\u001b[39m \u001b[38;5;28;01mNone\u001b[39;00m\n",
      "File \u001b[0;32m~/anaconda3/lib/python3.11/site-packages/torch/nn/modules/container.py:215\u001b[0m, in \u001b[0;36mSequential.forward\u001b[0;34m(self, input)\u001b[0m\n\u001b[1;32m    213\u001b[0m \u001b[38;5;28;01mdef\u001b[39;00m \u001b[38;5;21mforward\u001b[39m(\u001b[38;5;28mself\u001b[39m, \u001b[38;5;28minput\u001b[39m):\n\u001b[1;32m    214\u001b[0m     \u001b[38;5;28;01mfor\u001b[39;00m module \u001b[38;5;129;01min\u001b[39;00m \u001b[38;5;28mself\u001b[39m:\n\u001b[0;32m--> 215\u001b[0m         \u001b[38;5;28minput\u001b[39m \u001b[38;5;241m=\u001b[39m \u001b[43mmodule\u001b[49m\u001b[43m(\u001b[49m\u001b[38;5;28;43minput\u001b[39;49m\u001b[43m)\u001b[49m\n\u001b[1;32m    216\u001b[0m     \u001b[38;5;28;01mreturn\u001b[39;00m \u001b[38;5;28minput\u001b[39m\n",
      "File \u001b[0;32m~/anaconda3/lib/python3.11/site-packages/torch/nn/modules/module.py:1518\u001b[0m, in \u001b[0;36mModule._wrapped_call_impl\u001b[0;34m(self, *args, **kwargs)\u001b[0m\n\u001b[1;32m   1516\u001b[0m     \u001b[38;5;28;01mreturn\u001b[39;00m \u001b[38;5;28mself\u001b[39m\u001b[38;5;241m.\u001b[39m_compiled_call_impl(\u001b[38;5;241m*\u001b[39margs, \u001b[38;5;241m*\u001b[39m\u001b[38;5;241m*\u001b[39mkwargs)  \u001b[38;5;66;03m# type: ignore[misc]\u001b[39;00m\n\u001b[1;32m   1517\u001b[0m \u001b[38;5;28;01melse\u001b[39;00m:\n\u001b[0;32m-> 1518\u001b[0m     \u001b[38;5;28;01mreturn\u001b[39;00m \u001b[38;5;28;43mself\u001b[39;49m\u001b[38;5;241;43m.\u001b[39;49m\u001b[43m_call_impl\u001b[49m\u001b[43m(\u001b[49m\u001b[38;5;241;43m*\u001b[39;49m\u001b[43margs\u001b[49m\u001b[43m,\u001b[49m\u001b[43m \u001b[49m\u001b[38;5;241;43m*\u001b[39;49m\u001b[38;5;241;43m*\u001b[39;49m\u001b[43mkwargs\u001b[49m\u001b[43m)\u001b[49m\n",
      "File \u001b[0;32m~/anaconda3/lib/python3.11/site-packages/torch/nn/modules/module.py:1527\u001b[0m, in \u001b[0;36mModule._call_impl\u001b[0;34m(self, *args, **kwargs)\u001b[0m\n\u001b[1;32m   1522\u001b[0m \u001b[38;5;66;03m# If we don't have any hooks, we want to skip the rest of the logic in\u001b[39;00m\n\u001b[1;32m   1523\u001b[0m \u001b[38;5;66;03m# this function, and just call forward.\u001b[39;00m\n\u001b[1;32m   1524\u001b[0m \u001b[38;5;28;01mif\u001b[39;00m \u001b[38;5;129;01mnot\u001b[39;00m (\u001b[38;5;28mself\u001b[39m\u001b[38;5;241m.\u001b[39m_backward_hooks \u001b[38;5;129;01mor\u001b[39;00m \u001b[38;5;28mself\u001b[39m\u001b[38;5;241m.\u001b[39m_backward_pre_hooks \u001b[38;5;129;01mor\u001b[39;00m \u001b[38;5;28mself\u001b[39m\u001b[38;5;241m.\u001b[39m_forward_hooks \u001b[38;5;129;01mor\u001b[39;00m \u001b[38;5;28mself\u001b[39m\u001b[38;5;241m.\u001b[39m_forward_pre_hooks\n\u001b[1;32m   1525\u001b[0m         \u001b[38;5;129;01mor\u001b[39;00m _global_backward_pre_hooks \u001b[38;5;129;01mor\u001b[39;00m _global_backward_hooks\n\u001b[1;32m   1526\u001b[0m         \u001b[38;5;129;01mor\u001b[39;00m _global_forward_hooks \u001b[38;5;129;01mor\u001b[39;00m _global_forward_pre_hooks):\n\u001b[0;32m-> 1527\u001b[0m     \u001b[38;5;28;01mreturn\u001b[39;00m \u001b[43mforward_call\u001b[49m\u001b[43m(\u001b[49m\u001b[38;5;241;43m*\u001b[39;49m\u001b[43margs\u001b[49m\u001b[43m,\u001b[49m\u001b[43m \u001b[49m\u001b[38;5;241;43m*\u001b[39;49m\u001b[38;5;241;43m*\u001b[39;49m\u001b[43mkwargs\u001b[49m\u001b[43m)\u001b[49m\n\u001b[1;32m   1529\u001b[0m \u001b[38;5;28;01mtry\u001b[39;00m:\n\u001b[1;32m   1530\u001b[0m     result \u001b[38;5;241m=\u001b[39m \u001b[38;5;28;01mNone\u001b[39;00m\n",
      "File \u001b[0;32m~/anaconda3/lib/python3.11/site-packages/torch/nn/modules/container.py:215\u001b[0m, in \u001b[0;36mSequential.forward\u001b[0;34m(self, input)\u001b[0m\n\u001b[1;32m    213\u001b[0m \u001b[38;5;28;01mdef\u001b[39;00m \u001b[38;5;21mforward\u001b[39m(\u001b[38;5;28mself\u001b[39m, \u001b[38;5;28minput\u001b[39m):\n\u001b[1;32m    214\u001b[0m     \u001b[38;5;28;01mfor\u001b[39;00m module \u001b[38;5;129;01min\u001b[39;00m \u001b[38;5;28mself\u001b[39m:\n\u001b[0;32m--> 215\u001b[0m         \u001b[38;5;28minput\u001b[39m \u001b[38;5;241m=\u001b[39m \u001b[43mmodule\u001b[49m\u001b[43m(\u001b[49m\u001b[38;5;28;43minput\u001b[39;49m\u001b[43m)\u001b[49m\n\u001b[1;32m    216\u001b[0m     \u001b[38;5;28;01mreturn\u001b[39;00m \u001b[38;5;28minput\u001b[39m\n",
      "File \u001b[0;32m~/anaconda3/lib/python3.11/site-packages/torch/nn/modules/module.py:1518\u001b[0m, in \u001b[0;36mModule._wrapped_call_impl\u001b[0;34m(self, *args, **kwargs)\u001b[0m\n\u001b[1;32m   1516\u001b[0m     \u001b[38;5;28;01mreturn\u001b[39;00m \u001b[38;5;28mself\u001b[39m\u001b[38;5;241m.\u001b[39m_compiled_call_impl(\u001b[38;5;241m*\u001b[39margs, \u001b[38;5;241m*\u001b[39m\u001b[38;5;241m*\u001b[39mkwargs)  \u001b[38;5;66;03m# type: ignore[misc]\u001b[39;00m\n\u001b[1;32m   1517\u001b[0m \u001b[38;5;28;01melse\u001b[39;00m:\n\u001b[0;32m-> 1518\u001b[0m     \u001b[38;5;28;01mreturn\u001b[39;00m \u001b[38;5;28;43mself\u001b[39;49m\u001b[38;5;241;43m.\u001b[39;49m\u001b[43m_call_impl\u001b[49m\u001b[43m(\u001b[49m\u001b[38;5;241;43m*\u001b[39;49m\u001b[43margs\u001b[49m\u001b[43m,\u001b[49m\u001b[43m \u001b[49m\u001b[38;5;241;43m*\u001b[39;49m\u001b[38;5;241;43m*\u001b[39;49m\u001b[43mkwargs\u001b[49m\u001b[43m)\u001b[49m\n",
      "File \u001b[0;32m~/anaconda3/lib/python3.11/site-packages/torch/nn/modules/module.py:1527\u001b[0m, in \u001b[0;36mModule._call_impl\u001b[0;34m(self, *args, **kwargs)\u001b[0m\n\u001b[1;32m   1522\u001b[0m \u001b[38;5;66;03m# If we don't have any hooks, we want to skip the rest of the logic in\u001b[39;00m\n\u001b[1;32m   1523\u001b[0m \u001b[38;5;66;03m# this function, and just call forward.\u001b[39;00m\n\u001b[1;32m   1524\u001b[0m \u001b[38;5;28;01mif\u001b[39;00m \u001b[38;5;129;01mnot\u001b[39;00m (\u001b[38;5;28mself\u001b[39m\u001b[38;5;241m.\u001b[39m_backward_hooks \u001b[38;5;129;01mor\u001b[39;00m \u001b[38;5;28mself\u001b[39m\u001b[38;5;241m.\u001b[39m_backward_pre_hooks \u001b[38;5;129;01mor\u001b[39;00m \u001b[38;5;28mself\u001b[39m\u001b[38;5;241m.\u001b[39m_forward_hooks \u001b[38;5;129;01mor\u001b[39;00m \u001b[38;5;28mself\u001b[39m\u001b[38;5;241m.\u001b[39m_forward_pre_hooks\n\u001b[1;32m   1525\u001b[0m         \u001b[38;5;129;01mor\u001b[39;00m _global_backward_pre_hooks \u001b[38;5;129;01mor\u001b[39;00m _global_backward_hooks\n\u001b[1;32m   1526\u001b[0m         \u001b[38;5;129;01mor\u001b[39;00m _global_forward_hooks \u001b[38;5;129;01mor\u001b[39;00m _global_forward_pre_hooks):\n\u001b[0;32m-> 1527\u001b[0m     \u001b[38;5;28;01mreturn\u001b[39;00m \u001b[43mforward_call\u001b[49m\u001b[43m(\u001b[49m\u001b[38;5;241;43m*\u001b[39;49m\u001b[43margs\u001b[49m\u001b[43m,\u001b[49m\u001b[43m \u001b[49m\u001b[38;5;241;43m*\u001b[39;49m\u001b[38;5;241;43m*\u001b[39;49m\u001b[43mkwargs\u001b[49m\u001b[43m)\u001b[49m\n\u001b[1;32m   1529\u001b[0m \u001b[38;5;28;01mtry\u001b[39;00m:\n\u001b[1;32m   1530\u001b[0m     result \u001b[38;5;241m=\u001b[39m \u001b[38;5;28;01mNone\u001b[39;00m\n",
      "File \u001b[0;32m~/anaconda3/lib/python3.11/site-packages/torch/nn/modules/conv.py:460\u001b[0m, in \u001b[0;36mConv2d.forward\u001b[0;34m(self, input)\u001b[0m\n\u001b[1;32m    459\u001b[0m \u001b[38;5;28;01mdef\u001b[39;00m \u001b[38;5;21mforward\u001b[39m(\u001b[38;5;28mself\u001b[39m, \u001b[38;5;28minput\u001b[39m: Tensor) \u001b[38;5;241m-\u001b[39m\u001b[38;5;241m>\u001b[39m Tensor:\n\u001b[0;32m--> 460\u001b[0m     \u001b[38;5;28;01mreturn\u001b[39;00m \u001b[38;5;28;43mself\u001b[39;49m\u001b[38;5;241;43m.\u001b[39;49m\u001b[43m_conv_forward\u001b[49m\u001b[43m(\u001b[49m\u001b[38;5;28;43minput\u001b[39;49m\u001b[43m,\u001b[49m\u001b[43m \u001b[49m\u001b[38;5;28;43mself\u001b[39;49m\u001b[38;5;241;43m.\u001b[39;49m\u001b[43mweight\u001b[49m\u001b[43m,\u001b[49m\u001b[43m \u001b[49m\u001b[38;5;28;43mself\u001b[39;49m\u001b[38;5;241;43m.\u001b[39;49m\u001b[43mbias\u001b[49m\u001b[43m)\u001b[49m\n",
      "File \u001b[0;32m~/anaconda3/lib/python3.11/site-packages/torch/nn/modules/conv.py:456\u001b[0m, in \u001b[0;36mConv2d._conv_forward\u001b[0;34m(self, input, weight, bias)\u001b[0m\n\u001b[1;32m    452\u001b[0m \u001b[38;5;28;01mif\u001b[39;00m \u001b[38;5;28mself\u001b[39m\u001b[38;5;241m.\u001b[39mpadding_mode \u001b[38;5;241m!=\u001b[39m \u001b[38;5;124m'\u001b[39m\u001b[38;5;124mzeros\u001b[39m\u001b[38;5;124m'\u001b[39m:\n\u001b[1;32m    453\u001b[0m     \u001b[38;5;28;01mreturn\u001b[39;00m F\u001b[38;5;241m.\u001b[39mconv2d(F\u001b[38;5;241m.\u001b[39mpad(\u001b[38;5;28minput\u001b[39m, \u001b[38;5;28mself\u001b[39m\u001b[38;5;241m.\u001b[39m_reversed_padding_repeated_twice, mode\u001b[38;5;241m=\u001b[39m\u001b[38;5;28mself\u001b[39m\u001b[38;5;241m.\u001b[39mpadding_mode),\n\u001b[1;32m    454\u001b[0m                     weight, bias, \u001b[38;5;28mself\u001b[39m\u001b[38;5;241m.\u001b[39mstride,\n\u001b[1;32m    455\u001b[0m                     _pair(\u001b[38;5;241m0\u001b[39m), \u001b[38;5;28mself\u001b[39m\u001b[38;5;241m.\u001b[39mdilation, \u001b[38;5;28mself\u001b[39m\u001b[38;5;241m.\u001b[39mgroups)\n\u001b[0;32m--> 456\u001b[0m \u001b[38;5;28;01mreturn\u001b[39;00m \u001b[43mF\u001b[49m\u001b[38;5;241;43m.\u001b[39;49m\u001b[43mconv2d\u001b[49m\u001b[43m(\u001b[49m\u001b[38;5;28;43minput\u001b[39;49m\u001b[43m,\u001b[49m\u001b[43m \u001b[49m\u001b[43mweight\u001b[49m\u001b[43m,\u001b[49m\u001b[43m \u001b[49m\u001b[43mbias\u001b[49m\u001b[43m,\u001b[49m\u001b[43m \u001b[49m\u001b[38;5;28;43mself\u001b[39;49m\u001b[38;5;241;43m.\u001b[39;49m\u001b[43mstride\u001b[49m\u001b[43m,\u001b[49m\n\u001b[1;32m    457\u001b[0m \u001b[43m                \u001b[49m\u001b[38;5;28;43mself\u001b[39;49m\u001b[38;5;241;43m.\u001b[39;49m\u001b[43mpadding\u001b[49m\u001b[43m,\u001b[49m\u001b[43m \u001b[49m\u001b[38;5;28;43mself\u001b[39;49m\u001b[38;5;241;43m.\u001b[39;49m\u001b[43mdilation\u001b[49m\u001b[43m,\u001b[49m\u001b[43m \u001b[49m\u001b[38;5;28;43mself\u001b[39;49m\u001b[38;5;241;43m.\u001b[39;49m\u001b[43mgroups\u001b[49m\u001b[43m)\u001b[49m\n",
      "\u001b[0;31mKeyboardInterrupt\u001b[0m: "
     ]
    }
   ],
   "source": [
    "MEAN = [0.485, 0.456, 0.406]\n",
    "STD = [0.229, 0.224, 0.225]\n",
    "PRETRAINED_PATH = \"./pretrained/saved/\"\n",
    "\n",
    "def load_model(model_name, checkpoint_path, num_classes=NUM_CLASSES):\n",
    "    if model_name == 'squeezenet':\n",
    "        model = models.squeezenet1_0(weights=None)\n",
    "        model.classifier = nn.Sequential(\n",
    "            nn.Dropout(0.5),\n",
    "            nn.Conv2d(512, 1, kernel_size=1),\n",
    "            nn.ReLU(),\n",
    "            nn.AdaptiveAvgPool2d((1, 1)),\n",
    "            nn.Flatten(),\n",
    "        )\n",
    "    elif model_name == 'resnet18':\n",
    "        model = models.resnet18(weights=None)\n",
    "        model.fc = nn.Linear(model.fc.in_features, 1)\n",
    "    elif model_name == 'mobilenetv3':\n",
    "        model = models.mobilenet_v3_small(weights=None)\n",
    "        model.classifier = nn.Sequential(\n",
    "            nn.Linear(model.classifier[0].in_features, 1),\n",
    "        )\n",
    "    else:\n",
    "        raise ValueError(f\"Unsupported model name: {model_name}\")\n",
    "\n",
    "    state_dict = torch.load(checkpoint_path, map_location=torch.device('cpu'), weights_only=True)\n",
    "    model.load_state_dict(state_dict)\n",
    "\n",
    "    if model_name == 'squeezenet':\n",
    "        model.classifier = nn.Identity()\n",
    "    elif model_name == 'resnet18':\n",
    "        model.fc = nn.Identity()\n",
    "    elif model_name == 'mobilenetv3':\n",
    "        model.classifier = nn.Identity()\n",
    "    \n",
    "    model.eval()\n",
    "    return model\n",
    "\n",
    "def preprocess_image(image_path):\n",
    "    image = Image.open(image_path).convert('RGB')\n",
    "\n",
    "    image = Image.open(image_path).convert('RGB')\n",
    "    # image = image.resize((224, 224)) # input size for ResNet18\n",
    "    image = image.resize((28, 28))  # Resize for SqueezeNet/MobileNetV3\n",
    "    image_np = np.array(image).astype(np.float32) / 255.0  # Normalize to [0, 1]\n",
    "    image_np = (image_np - MEAN) / STD  # Normalize with MEAN and STD\n",
    "    image_np = np.transpose(image_np, (2, 0, 1))  # Convert HWC to CHW\n",
    "    image_tensor = torch.tensor(image_np, dtype=torch.float32).unsqueeze(0)  # Add batch dimension\n",
    "    return image_tensor\n",
    "\n",
    "def extract_features(image_path, model):\n",
    "    image_tensor = preprocess_image(image_path)\n",
    "    if image_tensor is None:\n",
    "        return None\n",
    "    with torch.no_grad():\n",
    "        features = model(image_tensor)\n",
    "    return features.numpy().flatten()\n",
    "\n",
    "def process_images(mode, model, cropped=True):\n",
    "    feature_list = []\n",
    "    filenames = []\n",
    "    \n",
    "    if cropped:\n",
    "        folder = f\"{FOLDER_INPUT_PATH}Img_{mode}_cropped/\"\n",
    "    else:\n",
    "        folder = f\"{FOLDER_INPUT_PATH}Img_{mode}/\"\n",
    "\n",
    "    output_csv = f\"{FOLDER_OUTPUT_PATH}img_feat_{get_variable_name(model, globals())}_{mode}.csv\"\n",
    "    \n",
    "    image_files = [img_file for img_file in sorted(os.listdir(folder)) if img_file.endswith('.png')]\n",
    "\n",
    "    for img_file in tqdm(image_files, desc=f\"Processing images in {folder}\"):\n",
    "        img_path = os.path.join(folder, img_file)\n",
    "        features = extract_features(img_path, model)\n",
    "        feature_list.append(features)\n",
    "        filenames.append(img_file)\n",
    "\n",
    "    feature_df = pd.DataFrame(feature_list)\n",
    "    feature_df['img_filename'] = filenames\n",
    "    feature_df.to_csv(output_csv, index=False)\n",
    "    print(f\"Features saved to {output_csv}\")\n",
    "\n",
    "# squeezenet = load_model('squeezenet', f\"{PRETRAINED_PATH}SqueezeNet_e10.pth\")\n",
    "# process_images('train', squeezenet)\n",
    "# process_images('test', squeezenet)\n",
    "# resnet18 = load_model('resnet18', f\"{PRETRAINED_PATH}ResNet_e10.pth\")\n",
    "# process_images('train', resnet18)\n",
    "# process_images('test', resnet18)\n",
    "mobilenetv3 = load_model('mobilenetv3', f\"{PRETRAINED_PATH}MobileNetV3_e10.pth\")\n",
    "process_images('train', mobilenetv3)\n",
    "process_images('test', mobilenetv3)"
   ]
  },
  {
   "cell_type": "markdown",
   "metadata": {},
   "source": [
    "### Custom CNNs"
   ]
  },
  {
   "cell_type": "code",
   "execution_count": 15,
   "metadata": {},
   "outputs": [],
   "source": [
    "class CNN(nn.Module):\n",
    "    def __init__(self):\n",
    "        super(CNN, self).__init__()\n",
    "\n",
    "        self.features = nn.Sequential(\n",
    "            nn.Conv2d(1, 16, kernel_size=3, stride=1, padding=1),  # Output: 32x32\n",
    "            nn.ReLU(),\n",
    "            nn.MaxPool2d(kernel_size=2, stride=2),  # Output: 16x16\n",
    "            nn.Conv2d(16, 32, kernel_size=3, stride=1, padding=1),  # Output: 16x16\n",
    "            nn.ReLU(),\n",
    "            nn.MaxPool2d(kernel_size=2, stride=2),  # Output: 8x8\n",
    "        )\n",
    "        \n",
    "        self.classifier = nn.Sequential(\n",
    "            nn.Flatten(),  # Flatten from 32 channels x 8 x 8 to 2048\n",
    "            nn.Linear(32 * 8 * 8, 128),  # Fully connected layer\n",
    "            nn.ReLU(),\n",
    "            nn.Linear(128, 1),  # Output layer\n",
    "            nn.Sigmoid(),  # Sigmoid activation for binary classification\n",
    "        )\n",
    "\n",
    "    def forward(self, x):\n",
    "        features = self.features(x)\n",
    "        output = self.classifier(features)\n",
    "        return output\n",
    "\n",
    "    def extract_features(self, x):\n",
    "        return self.features(x)"
   ]
  },
  {
   "cell_type": "code",
   "execution_count": 16,
   "metadata": {},
   "outputs": [],
   "source": [
    "class CNNATrous(nn.Module):\n",
    "    def __init__(self):\n",
    "        super(CNNATrous, self).__init__()\n",
    "\n",
    "        self.features = nn.Sequential(\n",
    "            nn.Conv2d(1, 16, kernel_size=3, stride=1, padding=2, dilation=2),  # Output: 32x32\n",
    "            nn.ReLU(),\n",
    "            nn.MaxPool2d(kernel_size=2, stride=2),  # Output: 16x16\n",
    "            nn.Conv2d(16, 32, kernel_size=3, stride=1, padding=4, dilation=4),  # Output: 16x16\n",
    "            nn.ReLU(),\n",
    "            nn.MaxPool2d(kernel_size=2, stride=2),  # Output: 8x8\n",
    "        )\n",
    "        \n",
    "        self.classifier = nn.Sequential(\n",
    "            nn.Flatten(),  # Flatten from 32 channels x 8 x 8 to 2048\n",
    "            nn.Linear(32 * 8 * 8, 128),  # Fully connected layer\n",
    "            nn.ReLU(),\n",
    "            nn.Linear(128, 1),  # Output layer\n",
    "            nn.Sigmoid(),  # Sigmoid activation for binary classification\n",
    "        )\n",
    "\n",
    "    def forward(self, x):\n",
    "        features = self.features(x)\n",
    "        output = self.classifier(features)\n",
    "        return output\n",
    "\n",
    "    def extract_features(self, x):\n",
    "        return self.features(x)"
   ]
  },
  {
   "cell_type": "code",
   "execution_count": 17,
   "metadata": {},
   "outputs": [],
   "source": [
    "class CNNDoubleConv(nn.Module):\n",
    "    def __init__(self, input_size=(32, 32)):\n",
    "        super(CNNDoubleConv, self).__init__()\n",
    "        \n",
    "        self.features = nn.Sequential(\n",
    "            nn.Conv2d(1, 16, kernel_size=3, stride=1, padding=1),\n",
    "            nn.ReLU(),\n",
    "            nn.Conv2d(16, 32, kernel_size=3, stride=1, padding=1),\n",
    "            nn.ReLU(),\n",
    "            nn.MaxPool2d(kernel_size=2, stride=2),  # Downsample to input_size / 2\n",
    "\n",
    "            nn.Conv2d(32, 64, kernel_size=3, stride=1, padding=1),\n",
    "            nn.ReLU(),\n",
    "            nn.Conv2d(64, 128, kernel_size=3, stride=1, padding=1),\n",
    "            nn.ReLU(),\n",
    "            nn.MaxPool2d(kernel_size=2, stride=2),  # Downsample to input_size / 4\n",
    "        )\n",
    "        \n",
    "        with torch.no_grad():\n",
    "            dummy_input = torch.zeros(1, 1, *input_size)  # Batch size of 1, 1 channel\n",
    "            flattened_size = self.features(dummy_input).numel()  # Compute output size\n",
    "\n",
    "        self.classifier = nn.Sequential(\n",
    "            nn.Flatten(),\n",
    "            nn.Linear(flattened_size, 128),\n",
    "            nn.ReLU(),\n",
    "            nn.Linear(128, 1),\n",
    "            nn.Sigmoid(),\n",
    "        )\n",
    "\n",
    "    def forward(self, x):\n",
    "        features = self.features(x)\n",
    "        output = self.classifier(features)\n",
    "        return output\n",
    "\n",
    "    def extract_features(self, x):\n",
    "        return self.features(x)\n"
   ]
  },
  {
   "cell_type": "markdown",
   "metadata": {},
   "source": [
    "##### Training and Evaluation"
   ]
  },
  {
   "cell_type": "code",
   "execution_count": 33,
   "metadata": {},
   "outputs": [
    {
     "name": "stderr",
     "output_type": "stream",
     "text": [
      "Epoch 1/10 [Training]:   0%|          | 0/25 [00:00<?, ?it/s]"
     ]
    },
    {
     "name": "stderr",
     "output_type": "stream",
     "text": [
      "Epoch 1/10 [Training]: 100%|██████████| 25/25 [00:01<00:00, 13.03it/s, train_loss=0.743]\n"
     ]
    },
    {
     "name": "stdout",
     "output_type": "stream",
     "text": [
      "Epoch 1 - Train Loss: 0.7130, Val Loss: 0.6931\n",
      "Model weights saved for epoch 1 as 'pretrained/CNNDoubleConv_e1.pth'\n"
     ]
    },
    {
     "name": "stderr",
     "output_type": "stream",
     "text": [
      "Epoch 2/10 [Training]: 100%|██████████| 25/25 [00:01<00:00, 14.56it/s, train_loss=0.693]\n"
     ]
    },
    {
     "ename": "KeyboardInterrupt",
     "evalue": "",
     "output_type": "error",
     "traceback": [
      "\u001b[0;31m---------------------------------------------------------------------------\u001b[0m",
      "\u001b[0;31mKeyboardInterrupt\u001b[0m                         Traceback (most recent call last)",
      "Cell \u001b[0;32mIn[33], line 12\u001b[0m\n\u001b[1;32m     10\u001b[0m save_path \u001b[38;5;241m=\u001b[39m \u001b[38;5;124m\"\u001b[39m\u001b[38;5;124mpretrained\u001b[39m\u001b[38;5;124m\"\u001b[39m\n\u001b[1;32m     11\u001b[0m os\u001b[38;5;241m.\u001b[39mmakedirs(save_path, exist_ok\u001b[38;5;241m=\u001b[39m\u001b[38;5;28;01mTrue\u001b[39;00m)\n\u001b[0;32m---> 12\u001b[0m train_losses, val_losses \u001b[38;5;241m=\u001b[39m \u001b[43mtrain_model\u001b[49m\u001b[43m(\u001b[49m\n\u001b[1;32m     13\u001b[0m \u001b[43m    \u001b[49m\u001b[43mmodel\u001b[49m\u001b[38;5;241;43m=\u001b[39;49m\u001b[43mmodel\u001b[49m\u001b[43m,\u001b[49m\n\u001b[1;32m     14\u001b[0m \u001b[43m    \u001b[49m\u001b[43mtrain_loader\u001b[49m\u001b[38;5;241;43m=\u001b[39;49m\u001b[43mtrain_loader\u001b[49m\u001b[43m,\u001b[49m\n\u001b[1;32m     15\u001b[0m \u001b[43m    \u001b[49m\u001b[43mval_loader\u001b[49m\u001b[38;5;241;43m=\u001b[39;49m\u001b[43mval_loader\u001b[49m\u001b[43m,\u001b[49m\n\u001b[1;32m     16\u001b[0m \u001b[43m    \u001b[49m\u001b[43mlearning_rate\u001b[49m\u001b[38;5;241;43m=\u001b[39;49m\u001b[38;5;241;43m0.001\u001b[39;49m\u001b[43m,\u001b[49m\n\u001b[1;32m     17\u001b[0m \u001b[43m    \u001b[49m\u001b[43mnum_epochs\u001b[49m\u001b[38;5;241;43m=\u001b[39;49m\u001b[38;5;241;43m10\u001b[39;49m\n\u001b[1;32m     18\u001b[0m \u001b[43m)\u001b[49m\n\u001b[1;32m     19\u001b[0m _,_ \u001b[38;5;241m=\u001b[39m test_model(model, test_loader)\n",
      "Cell \u001b[0;32mIn[22], line 36\u001b[0m, in \u001b[0;36mtrain_model\u001b[0;34m(model, train_loader, val_loader, learning_rate, num_epochs, pretrained)\u001b[0m\n\u001b[1;32m     34\u001b[0m \u001b[38;5;28;01mif\u001b[39;00m pretrained:\n\u001b[1;32m     35\u001b[0m     outputs \u001b[38;5;241m=\u001b[39m torch\u001b[38;5;241m.\u001b[39msigmoid(model(images))\n\u001b[0;32m---> 36\u001b[0m outputs \u001b[38;5;241m=\u001b[39m \u001b[43mmodel\u001b[49m\u001b[43m(\u001b[49m\u001b[43mimages\u001b[49m\u001b[43m)\u001b[49m\n\u001b[1;32m     37\u001b[0m loss \u001b[38;5;241m=\u001b[39m criterion(outputs, labels)\n\u001b[1;32m     38\u001b[0m val_loss \u001b[38;5;241m+\u001b[39m\u001b[38;5;241m=\u001b[39m loss\u001b[38;5;241m.\u001b[39mitem()\n",
      "File \u001b[0;32m~/anaconda3/lib/python3.11/site-packages/torch/nn/modules/module.py:1518\u001b[0m, in \u001b[0;36mModule._wrapped_call_impl\u001b[0;34m(self, *args, **kwargs)\u001b[0m\n\u001b[1;32m   1516\u001b[0m     \u001b[38;5;28;01mreturn\u001b[39;00m \u001b[38;5;28mself\u001b[39m\u001b[38;5;241m.\u001b[39m_compiled_call_impl(\u001b[38;5;241m*\u001b[39margs, \u001b[38;5;241m*\u001b[39m\u001b[38;5;241m*\u001b[39mkwargs)  \u001b[38;5;66;03m# type: ignore[misc]\u001b[39;00m\n\u001b[1;32m   1517\u001b[0m \u001b[38;5;28;01melse\u001b[39;00m:\n\u001b[0;32m-> 1518\u001b[0m     \u001b[38;5;28;01mreturn\u001b[39;00m \u001b[38;5;28;43mself\u001b[39;49m\u001b[38;5;241;43m.\u001b[39;49m\u001b[43m_call_impl\u001b[49m\u001b[43m(\u001b[49m\u001b[38;5;241;43m*\u001b[39;49m\u001b[43margs\u001b[49m\u001b[43m,\u001b[49m\u001b[43m \u001b[49m\u001b[38;5;241;43m*\u001b[39;49m\u001b[38;5;241;43m*\u001b[39;49m\u001b[43mkwargs\u001b[49m\u001b[43m)\u001b[49m\n",
      "File \u001b[0;32m~/anaconda3/lib/python3.11/site-packages/torch/nn/modules/module.py:1527\u001b[0m, in \u001b[0;36mModule._call_impl\u001b[0;34m(self, *args, **kwargs)\u001b[0m\n\u001b[1;32m   1522\u001b[0m \u001b[38;5;66;03m# If we don't have any hooks, we want to skip the rest of the logic in\u001b[39;00m\n\u001b[1;32m   1523\u001b[0m \u001b[38;5;66;03m# this function, and just call forward.\u001b[39;00m\n\u001b[1;32m   1524\u001b[0m \u001b[38;5;28;01mif\u001b[39;00m \u001b[38;5;129;01mnot\u001b[39;00m (\u001b[38;5;28mself\u001b[39m\u001b[38;5;241m.\u001b[39m_backward_hooks \u001b[38;5;129;01mor\u001b[39;00m \u001b[38;5;28mself\u001b[39m\u001b[38;5;241m.\u001b[39m_backward_pre_hooks \u001b[38;5;129;01mor\u001b[39;00m \u001b[38;5;28mself\u001b[39m\u001b[38;5;241m.\u001b[39m_forward_hooks \u001b[38;5;129;01mor\u001b[39;00m \u001b[38;5;28mself\u001b[39m\u001b[38;5;241m.\u001b[39m_forward_pre_hooks\n\u001b[1;32m   1525\u001b[0m         \u001b[38;5;129;01mor\u001b[39;00m _global_backward_pre_hooks \u001b[38;5;129;01mor\u001b[39;00m _global_backward_hooks\n\u001b[1;32m   1526\u001b[0m         \u001b[38;5;129;01mor\u001b[39;00m _global_forward_hooks \u001b[38;5;129;01mor\u001b[39;00m _global_forward_pre_hooks):\n\u001b[0;32m-> 1527\u001b[0m     \u001b[38;5;28;01mreturn\u001b[39;00m \u001b[43mforward_call\u001b[49m\u001b[43m(\u001b[49m\u001b[38;5;241;43m*\u001b[39;49m\u001b[43margs\u001b[49m\u001b[43m,\u001b[49m\u001b[43m \u001b[49m\u001b[38;5;241;43m*\u001b[39;49m\u001b[38;5;241;43m*\u001b[39;49m\u001b[43mkwargs\u001b[49m\u001b[43m)\u001b[49m\n\u001b[1;32m   1529\u001b[0m \u001b[38;5;28;01mtry\u001b[39;00m:\n\u001b[1;32m   1530\u001b[0m     result \u001b[38;5;241m=\u001b[39m \u001b[38;5;28;01mNone\u001b[39;00m\n",
      "Cell \u001b[0;32mIn[17], line 32\u001b[0m, in \u001b[0;36mCNNDoubleConv.forward\u001b[0;34m(self, x)\u001b[0m\n\u001b[1;32m     31\u001b[0m \u001b[38;5;28;01mdef\u001b[39;00m \u001b[38;5;21mforward\u001b[39m(\u001b[38;5;28mself\u001b[39m, x):\n\u001b[0;32m---> 32\u001b[0m     features \u001b[38;5;241m=\u001b[39m \u001b[38;5;28;43mself\u001b[39;49m\u001b[38;5;241;43m.\u001b[39;49m\u001b[43mfeatures\u001b[49m\u001b[43m(\u001b[49m\u001b[43mx\u001b[49m\u001b[43m)\u001b[49m\n\u001b[1;32m     33\u001b[0m     output \u001b[38;5;241m=\u001b[39m \u001b[38;5;28mself\u001b[39m\u001b[38;5;241m.\u001b[39mclassifier(features)\n\u001b[1;32m     34\u001b[0m     \u001b[38;5;28;01mreturn\u001b[39;00m output\n",
      "File \u001b[0;32m~/anaconda3/lib/python3.11/site-packages/torch/nn/modules/module.py:1518\u001b[0m, in \u001b[0;36mModule._wrapped_call_impl\u001b[0;34m(self, *args, **kwargs)\u001b[0m\n\u001b[1;32m   1516\u001b[0m     \u001b[38;5;28;01mreturn\u001b[39;00m \u001b[38;5;28mself\u001b[39m\u001b[38;5;241m.\u001b[39m_compiled_call_impl(\u001b[38;5;241m*\u001b[39margs, \u001b[38;5;241m*\u001b[39m\u001b[38;5;241m*\u001b[39mkwargs)  \u001b[38;5;66;03m# type: ignore[misc]\u001b[39;00m\n\u001b[1;32m   1517\u001b[0m \u001b[38;5;28;01melse\u001b[39;00m:\n\u001b[0;32m-> 1518\u001b[0m     \u001b[38;5;28;01mreturn\u001b[39;00m \u001b[38;5;28;43mself\u001b[39;49m\u001b[38;5;241;43m.\u001b[39;49m\u001b[43m_call_impl\u001b[49m\u001b[43m(\u001b[49m\u001b[38;5;241;43m*\u001b[39;49m\u001b[43margs\u001b[49m\u001b[43m,\u001b[49m\u001b[43m \u001b[49m\u001b[38;5;241;43m*\u001b[39;49m\u001b[38;5;241;43m*\u001b[39;49m\u001b[43mkwargs\u001b[49m\u001b[43m)\u001b[49m\n",
      "File \u001b[0;32m~/anaconda3/lib/python3.11/site-packages/torch/nn/modules/module.py:1527\u001b[0m, in \u001b[0;36mModule._call_impl\u001b[0;34m(self, *args, **kwargs)\u001b[0m\n\u001b[1;32m   1522\u001b[0m \u001b[38;5;66;03m# If we don't have any hooks, we want to skip the rest of the logic in\u001b[39;00m\n\u001b[1;32m   1523\u001b[0m \u001b[38;5;66;03m# this function, and just call forward.\u001b[39;00m\n\u001b[1;32m   1524\u001b[0m \u001b[38;5;28;01mif\u001b[39;00m \u001b[38;5;129;01mnot\u001b[39;00m (\u001b[38;5;28mself\u001b[39m\u001b[38;5;241m.\u001b[39m_backward_hooks \u001b[38;5;129;01mor\u001b[39;00m \u001b[38;5;28mself\u001b[39m\u001b[38;5;241m.\u001b[39m_backward_pre_hooks \u001b[38;5;129;01mor\u001b[39;00m \u001b[38;5;28mself\u001b[39m\u001b[38;5;241m.\u001b[39m_forward_hooks \u001b[38;5;129;01mor\u001b[39;00m \u001b[38;5;28mself\u001b[39m\u001b[38;5;241m.\u001b[39m_forward_pre_hooks\n\u001b[1;32m   1525\u001b[0m         \u001b[38;5;129;01mor\u001b[39;00m _global_backward_pre_hooks \u001b[38;5;129;01mor\u001b[39;00m _global_backward_hooks\n\u001b[1;32m   1526\u001b[0m         \u001b[38;5;129;01mor\u001b[39;00m _global_forward_hooks \u001b[38;5;129;01mor\u001b[39;00m _global_forward_pre_hooks):\n\u001b[0;32m-> 1527\u001b[0m     \u001b[38;5;28;01mreturn\u001b[39;00m \u001b[43mforward_call\u001b[49m\u001b[43m(\u001b[49m\u001b[38;5;241;43m*\u001b[39;49m\u001b[43margs\u001b[49m\u001b[43m,\u001b[49m\u001b[43m \u001b[49m\u001b[38;5;241;43m*\u001b[39;49m\u001b[38;5;241;43m*\u001b[39;49m\u001b[43mkwargs\u001b[49m\u001b[43m)\u001b[49m\n\u001b[1;32m   1529\u001b[0m \u001b[38;5;28;01mtry\u001b[39;00m:\n\u001b[1;32m   1530\u001b[0m     result \u001b[38;5;241m=\u001b[39m \u001b[38;5;28;01mNone\u001b[39;00m\n",
      "File \u001b[0;32m~/anaconda3/lib/python3.11/site-packages/torch/nn/modules/container.py:215\u001b[0m, in \u001b[0;36mSequential.forward\u001b[0;34m(self, input)\u001b[0m\n\u001b[1;32m    213\u001b[0m \u001b[38;5;28;01mdef\u001b[39;00m \u001b[38;5;21mforward\u001b[39m(\u001b[38;5;28mself\u001b[39m, \u001b[38;5;28minput\u001b[39m):\n\u001b[1;32m    214\u001b[0m     \u001b[38;5;28;01mfor\u001b[39;00m module \u001b[38;5;129;01min\u001b[39;00m \u001b[38;5;28mself\u001b[39m:\n\u001b[0;32m--> 215\u001b[0m         \u001b[38;5;28minput\u001b[39m \u001b[38;5;241m=\u001b[39m \u001b[43mmodule\u001b[49m\u001b[43m(\u001b[49m\u001b[38;5;28;43minput\u001b[39;49m\u001b[43m)\u001b[49m\n\u001b[1;32m    216\u001b[0m     \u001b[38;5;28;01mreturn\u001b[39;00m \u001b[38;5;28minput\u001b[39m\n",
      "File \u001b[0;32m~/anaconda3/lib/python3.11/site-packages/torch/nn/modules/module.py:1518\u001b[0m, in \u001b[0;36mModule._wrapped_call_impl\u001b[0;34m(self, *args, **kwargs)\u001b[0m\n\u001b[1;32m   1516\u001b[0m     \u001b[38;5;28;01mreturn\u001b[39;00m \u001b[38;5;28mself\u001b[39m\u001b[38;5;241m.\u001b[39m_compiled_call_impl(\u001b[38;5;241m*\u001b[39margs, \u001b[38;5;241m*\u001b[39m\u001b[38;5;241m*\u001b[39mkwargs)  \u001b[38;5;66;03m# type: ignore[misc]\u001b[39;00m\n\u001b[1;32m   1517\u001b[0m \u001b[38;5;28;01melse\u001b[39;00m:\n\u001b[0;32m-> 1518\u001b[0m     \u001b[38;5;28;01mreturn\u001b[39;00m \u001b[38;5;28;43mself\u001b[39;49m\u001b[38;5;241;43m.\u001b[39;49m\u001b[43m_call_impl\u001b[49m\u001b[43m(\u001b[49m\u001b[38;5;241;43m*\u001b[39;49m\u001b[43margs\u001b[49m\u001b[43m,\u001b[49m\u001b[43m \u001b[49m\u001b[38;5;241;43m*\u001b[39;49m\u001b[38;5;241;43m*\u001b[39;49m\u001b[43mkwargs\u001b[49m\u001b[43m)\u001b[49m\n",
      "File \u001b[0;32m~/anaconda3/lib/python3.11/site-packages/torch/nn/modules/module.py:1527\u001b[0m, in \u001b[0;36mModule._call_impl\u001b[0;34m(self, *args, **kwargs)\u001b[0m\n\u001b[1;32m   1522\u001b[0m \u001b[38;5;66;03m# If we don't have any hooks, we want to skip the rest of the logic in\u001b[39;00m\n\u001b[1;32m   1523\u001b[0m \u001b[38;5;66;03m# this function, and just call forward.\u001b[39;00m\n\u001b[1;32m   1524\u001b[0m \u001b[38;5;28;01mif\u001b[39;00m \u001b[38;5;129;01mnot\u001b[39;00m (\u001b[38;5;28mself\u001b[39m\u001b[38;5;241m.\u001b[39m_backward_hooks \u001b[38;5;129;01mor\u001b[39;00m \u001b[38;5;28mself\u001b[39m\u001b[38;5;241m.\u001b[39m_backward_pre_hooks \u001b[38;5;129;01mor\u001b[39;00m \u001b[38;5;28mself\u001b[39m\u001b[38;5;241m.\u001b[39m_forward_hooks \u001b[38;5;129;01mor\u001b[39;00m \u001b[38;5;28mself\u001b[39m\u001b[38;5;241m.\u001b[39m_forward_pre_hooks\n\u001b[1;32m   1525\u001b[0m         \u001b[38;5;129;01mor\u001b[39;00m _global_backward_pre_hooks \u001b[38;5;129;01mor\u001b[39;00m _global_backward_hooks\n\u001b[1;32m   1526\u001b[0m         \u001b[38;5;129;01mor\u001b[39;00m _global_forward_hooks \u001b[38;5;129;01mor\u001b[39;00m _global_forward_pre_hooks):\n\u001b[0;32m-> 1527\u001b[0m     \u001b[38;5;28;01mreturn\u001b[39;00m \u001b[43mforward_call\u001b[49m\u001b[43m(\u001b[49m\u001b[38;5;241;43m*\u001b[39;49m\u001b[43margs\u001b[49m\u001b[43m,\u001b[49m\u001b[43m \u001b[49m\u001b[38;5;241;43m*\u001b[39;49m\u001b[38;5;241;43m*\u001b[39;49m\u001b[43mkwargs\u001b[49m\u001b[43m)\u001b[49m\n\u001b[1;32m   1529\u001b[0m \u001b[38;5;28;01mtry\u001b[39;00m:\n\u001b[1;32m   1530\u001b[0m     result \u001b[38;5;241m=\u001b[39m \u001b[38;5;28;01mNone\u001b[39;00m\n",
      "File \u001b[0;32m~/anaconda3/lib/python3.11/site-packages/torch/nn/modules/conv.py:460\u001b[0m, in \u001b[0;36mConv2d.forward\u001b[0;34m(self, input)\u001b[0m\n\u001b[1;32m    459\u001b[0m \u001b[38;5;28;01mdef\u001b[39;00m \u001b[38;5;21mforward\u001b[39m(\u001b[38;5;28mself\u001b[39m, \u001b[38;5;28minput\u001b[39m: Tensor) \u001b[38;5;241m-\u001b[39m\u001b[38;5;241m>\u001b[39m Tensor:\n\u001b[0;32m--> 460\u001b[0m     \u001b[38;5;28;01mreturn\u001b[39;00m \u001b[38;5;28;43mself\u001b[39;49m\u001b[38;5;241;43m.\u001b[39;49m\u001b[43m_conv_forward\u001b[49m\u001b[43m(\u001b[49m\u001b[38;5;28;43minput\u001b[39;49m\u001b[43m,\u001b[49m\u001b[43m \u001b[49m\u001b[38;5;28;43mself\u001b[39;49m\u001b[38;5;241;43m.\u001b[39;49m\u001b[43mweight\u001b[49m\u001b[43m,\u001b[49m\u001b[43m \u001b[49m\u001b[38;5;28;43mself\u001b[39;49m\u001b[38;5;241;43m.\u001b[39;49m\u001b[43mbias\u001b[49m\u001b[43m)\u001b[49m\n",
      "File \u001b[0;32m~/anaconda3/lib/python3.11/site-packages/torch/nn/modules/conv.py:456\u001b[0m, in \u001b[0;36mConv2d._conv_forward\u001b[0;34m(self, input, weight, bias)\u001b[0m\n\u001b[1;32m    452\u001b[0m \u001b[38;5;28;01mif\u001b[39;00m \u001b[38;5;28mself\u001b[39m\u001b[38;5;241m.\u001b[39mpadding_mode \u001b[38;5;241m!=\u001b[39m \u001b[38;5;124m'\u001b[39m\u001b[38;5;124mzeros\u001b[39m\u001b[38;5;124m'\u001b[39m:\n\u001b[1;32m    453\u001b[0m     \u001b[38;5;28;01mreturn\u001b[39;00m F\u001b[38;5;241m.\u001b[39mconv2d(F\u001b[38;5;241m.\u001b[39mpad(\u001b[38;5;28minput\u001b[39m, \u001b[38;5;28mself\u001b[39m\u001b[38;5;241m.\u001b[39m_reversed_padding_repeated_twice, mode\u001b[38;5;241m=\u001b[39m\u001b[38;5;28mself\u001b[39m\u001b[38;5;241m.\u001b[39mpadding_mode),\n\u001b[1;32m    454\u001b[0m                     weight, bias, \u001b[38;5;28mself\u001b[39m\u001b[38;5;241m.\u001b[39mstride,\n\u001b[1;32m    455\u001b[0m                     _pair(\u001b[38;5;241m0\u001b[39m), \u001b[38;5;28mself\u001b[39m\u001b[38;5;241m.\u001b[39mdilation, \u001b[38;5;28mself\u001b[39m\u001b[38;5;241m.\u001b[39mgroups)\n\u001b[0;32m--> 456\u001b[0m \u001b[38;5;28;01mreturn\u001b[39;00m \u001b[43mF\u001b[49m\u001b[38;5;241;43m.\u001b[39;49m\u001b[43mconv2d\u001b[49m\u001b[43m(\u001b[49m\u001b[38;5;28;43minput\u001b[39;49m\u001b[43m,\u001b[49m\u001b[43m \u001b[49m\u001b[43mweight\u001b[49m\u001b[43m,\u001b[49m\u001b[43m \u001b[49m\u001b[43mbias\u001b[49m\u001b[43m,\u001b[49m\u001b[43m \u001b[49m\u001b[38;5;28;43mself\u001b[39;49m\u001b[38;5;241;43m.\u001b[39;49m\u001b[43mstride\u001b[49m\u001b[43m,\u001b[49m\n\u001b[1;32m    457\u001b[0m \u001b[43m                \u001b[49m\u001b[38;5;28;43mself\u001b[39;49m\u001b[38;5;241;43m.\u001b[39;49m\u001b[43mpadding\u001b[49m\u001b[43m,\u001b[49m\u001b[43m \u001b[49m\u001b[38;5;28;43mself\u001b[39;49m\u001b[38;5;241;43m.\u001b[39;49m\u001b[43mdilation\u001b[49m\u001b[43m,\u001b[49m\u001b[43m \u001b[49m\u001b[38;5;28;43mself\u001b[39;49m\u001b[38;5;241;43m.\u001b[39;49m\u001b[43mgroups\u001b[49m\u001b[43m)\u001b[49m\n",
      "\u001b[0;31mKeyboardInterrupt\u001b[0m: "
     ]
    }
   ],
   "source": [
    "batch_size = 32\n",
    "train_loader = DataLoader(train_subset, batch_size=batch_size, shuffle=True)\n",
    "val_loader = DataLoader(val_subset, batch_size=batch_size, shuffle=False)\n",
    "test_loader = DataLoader(test_dataset, batch_size=batch_size, shuffle=False)\n",
    "\n",
    "# model = CNN()\n",
    "# model = CNNATrous()\n",
    "model = CNNDoubleConv()\n",
    "\n",
    "save_path = \"pretrained\"\n",
    "os.makedirs(save_path, exist_ok=True)\n",
    "train_losses, val_losses = train_model(\n",
    "    model=model,\n",
    "    train_loader=train_loader,\n",
    "    val_loader=val_loader,\n",
    "    learning_rate=0.001,\n",
    "    num_epochs=10\n",
    ")\n",
    "_,_ = test_model(model, test_loader)"
   ]
  },
  {
   "cell_type": "code",
   "execution_count": 40,
   "metadata": {},
   "outputs": [
    {
     "name": "stderr",
     "output_type": "stream",
     "text": [
      "Extracting Features: 100%|██████████| 1000/1000 [00:00<00:00, 1167.50it/s]\n"
     ]
    },
    {
     "name": "stdout",
     "output_type": "stream",
     "text": [
      "Features saved to ../data_students/labeled_data/img_features/img_feat_CNNDoubleConv_train.csv\n"
     ]
    },
    {
     "name": "stderr",
     "output_type": "stream",
     "text": [
      "Extracting Features: 100%|██████████| 500/500 [00:00<00:00, 925.76it/s]\n"
     ]
    },
    {
     "name": "stdout",
     "output_type": "stream",
     "text": [
      "Features saved to ../data_students/labeled_data/img_features/img_feat_CNNDoubleConv_test.csv\n"
     ]
    },
    {
     "name": "stderr",
     "output_type": "stream",
     "text": [
      "Extracting Features: 100%|██████████| 500/500 [00:00<00:00, 1000.63it/s]\n"
     ]
    },
    {
     "name": "stdout",
     "output_type": "stream",
     "text": [
      "Features saved to ../data_students/unlabeled_data/img_features/img_feat_CNNDoubleConv_predict.csv\n"
     ]
    }
   ],
   "source": [
    "def extract_features(model, dataset, output_csv):\n",
    "    model.eval()\n",
    "    features = []\n",
    "    image_names = []\n",
    "\n",
    "    with torch.no_grad():\n",
    "        for idx in tqdm(range(len(dataset)), desc=\"Extracting Features\"):\n",
    "            data = dataset[idx]\n",
    "            if isinstance(data, tuple):  # Si le dataset retourne (image, label)\n",
    "                image, _ = data\n",
    "            else:  # Sinon, il ne retourne que l'image\n",
    "                image = data\n",
    "            image_name = dataset.image_paths[idx].name if hasattr(dataset, 'image_paths') else f\"image_{idx}.png\"\n",
    "            \n",
    "            if not isinstance(image, torch.Tensor):  # Ensure the image is a tensor\n",
    "                image = transforms.ToTensor()(image)  # Convert image to tensor if it's not already\n",
    "\n",
    "            device = torch.device(\"cuda\" if torch.cuda.is_available() else \"cpu\")\n",
    "            image = image.unsqueeze(0).to(device)\n",
    "\n",
    "            feature_vector = model.extract_features(image)\n",
    "            feature_vector = feature_vector.flatten().cpu().numpy()\n",
    "\n",
    "            features.append(feature_vector)\n",
    "            image_names.append(image_name)\n",
    "\n",
    "    features_array = np.array(features)\n",
    "    df = pd.DataFrame(features_array)\n",
    "    df.insert(0, \"img_filename\", image_names)\n",
    "    df.to_csv(output_csv, index=False)\n",
    "    print(f\"Features saved to {output_csv}\")\n",
    "\n",
    "epoch = 10                     # CHANGE EPOCH HERE\n",
    "has_data_augmentation = False   # CHANGE FOR DATA AUGMENTATION HERE\n",
    "data = \"\"\n",
    "if has_data_augmentation:\n",
    "    data = \"augmented_\"\n",
    "model = CNNDoubleConv()\n",
    "#model.load_state_dict(torch.load(f\"pretrained/{type(model).__name__}_e{epoch}.pth\", weights_only=True))\n",
    "output_csv_train = f\"{FOLDER_OUTPUT_PATH}img_feat_{type(model).__name__}_{data}train.csv\"\n",
    "extract_features(model, train_dataset, output_csv_train)\n",
    "\n",
    "output_csv_test = f\"{FOLDER_OUTPUT_PATH}img_feat_{type(model).__name__}_{data}test.csv\"\n",
    "extract_features(model, test_dataset, output_csv_test)\n",
    "\n",
    "output_csv_predict = f\"{FOLDER_OUTPUT_PATH_PREDICT}img_features/img_feat_{type(model).__name__}_{data}predict.csv\"\n",
    "extract_features(model, predict_dataset, output_csv_predict)\n"
   ]
  },
  {
   "cell_type": "markdown",
   "metadata": {},
   "source": [
    "# Merging tabular data and images features"
   ]
  },
  {
   "cell_type": "code",
   "execution_count": null,
   "metadata": {},
   "outputs": [
    {
     "name": "stdout",
     "output_type": "stream",
     "text": [
      "Merging data for CNNDoubleConv features...\n",
      "Train data combined and saved to ../data_students/labeled_data/X_train_combined.csv.\n",
      "Test data combined and saved to ../data_students/labeled_data/X_test_combined.csv.\n",
      "Predict data combined and saved to ../data_students/unlabeled_data/X_predict_combined.csv.\n"
     ]
    }
   ],
   "source": [
    "def merge_data(mode, model, augmented=False):\n",
    "    if mode not in ['train', 'test', 'predict']:\n",
    "        raise ValueError(\"Mode must be either 'train' or 'test'.\")\n",
    "    \n",
    "    if mode == 'predict':\n",
    "        tabular_csv = f\"{FOLDER_INPUT_PATH_PREDICT}X.csv\"\n",
    "        feature_csv = f\"{FOLDER_OUTPUT_PATH_PREDICT}img_features/img_feat_{model}_{mode}.csv\"\n",
    "        if augmented:\n",
    "            feature_csv = f\"{FOLDER_OUTPUT_PATH_PREDICT}img_features/img_feat_{model}_augmented_{mode}.csv\"\n",
    "        combined_csv = f\"{FOLDER_INPUT_PATH_PREDICT}X_{mode}_combined.csv\"\n",
    "\n",
    "        tabular_data = pd.read_csv(tabular_csv)\n",
    "        image_features = pd.read_csv(feature_csv)\n",
    "\n",
    "        combined_data = pd.merge(tabular_data, image_features, on='img_filename', how='inner')\n",
    "        combined_data = combined_data.drop(columns=['img_filename'])\n",
    "\n",
    "        combined_data.to_csv(combined_csv, index=False)\n",
    "        print(f\"{mode.capitalize()} data combined and saved to {combined_csv}.\")\n",
    "    else:\n",
    "        tabular_csv = f\"{FOLDER_INPUT_PATH}X_{mode}.csv\"\n",
    "        feature_csv = f\"{FOLDER_OUTPUT_PATH}img_feat_{model}_{mode}.csv\"\n",
    "        if augmented:\n",
    "            feature_csv = f\"{FOLDER_OUTPUT_PATH}img_feat_{model}_augmented_{mode}.csv\"\n",
    "        combined_csv = f\"{FOLDER_INPUT_PATH}X_{mode}_combined.csv\"\n",
    "\n",
    "        tabular_data = pd.read_csv(tabular_csv)\n",
    "        image_features = pd.read_csv(feature_csv)\n",
    "\n",
    "        combined_data = pd.merge(tabular_data, image_features, on='img_filename', how='inner')\n",
    "        combined_data = combined_data.drop(columns=['img_filename'])\n",
    "\n",
    "        combined_data.to_csv(combined_csv, index=False)\n",
    "        print(f\"{mode.capitalize()} data combined and saved to {combined_csv}.\")\n",
    "\n",
    "models = {\n",
    "    1: 'flat',\n",
    "    2: 'hog',\n",
    "    3: 'orb',\n",
    "    4: 'sift',\n",
    "    5: 'ced',\n",
    "    6: 'harris',\n",
    "    7: 'CNN',\n",
    "    8: 'CNNAtrous',\n",
    "    9: 'CNNDoubleConv', #best\n",
    "    10: 'resnet18',\n",
    "    11: 'squeezenet',\n",
    "    12: 'mobilenetv3'\n",
    "}\n",
    "model = models[9]  # CHANGE MODEL HERE\n",
    "print(f\"Merging data for {model} features...\")\n",
    "merge_data('train', model, augmented=True)\n",
    "merge_data('test', model, augmented=True)",
    "merge_data('predict', model, augmented=True)"
   ]
  }
 ],
 "metadata": {
  "kernelspec": {
   "display_name": "base",
   "language": "python",
   "name": "python3"
  },
  "language_info": {
   "codemirror_mode": {
    "name": "ipython",
    "version": 3
   },
   "file_extension": ".py",
   "mimetype": "text/x-python",
   "name": "python",
   "nbconvert_exporter": "python",
   "pygments_lexer": "ipython3",
   "version": "3.11.5"
  }
 },
 "nbformat": 4,
 "nbformat_minor": 2
}
